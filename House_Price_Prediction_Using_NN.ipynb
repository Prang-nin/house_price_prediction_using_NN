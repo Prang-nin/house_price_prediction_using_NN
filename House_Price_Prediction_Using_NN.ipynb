{
  "nbformat": 4,
  "nbformat_minor": 0,
  "metadata": {
    "colab": {
      "name": "House_Price_Prediction_Using_NN.ipynb",
      "provenance": [],
      "collapsed_sections": [],
      "include_colab_link": true
    },
    "kernelspec": {
      "name": "python3",
      "display_name": "Python 3"
    },
    "language_info": {
      "name": "python"
    }
  },
  "cells": [
    {
      "cell_type": "markdown",
      "metadata": {
        "id": "view-in-github",
        "colab_type": "text"
      },
      "source": [
        "<a href=\"https://colab.research.google.com/github/Prang-nin/house_price_prediction_using_NN/blob/main/House_Price_Prediction_Using_NN.ipynb\" target=\"_parent\"><img src=\"https://colab.research.google.com/assets/colab-badge.svg\" alt=\"Open In Colab\"/></a>"
      ]
    },
    {
      "cell_type": "markdown",
      "source": [
        "# **SECTION I : INTRODUCTION**\n",
        "## **Objective** 🏡\n",
        "To predict house sale prices in King Country, USA.\n",
        "\n",
        "**The Data set can be download**\n",
        "\n",
        "👉 https://www.kaggle.com/datasets/harlfoxem/housesalesprediction\n",
        "\n",
        "## **Table of contents** ✍\n",
        "\n",
        "**Pre-processing** 🔰\n",
        "\n",
        "- Load the dataset \n",
        "- Import modules and libraries\n",
        "- Data visualization\n",
        "- Features engineer\n",
        "- Train and test splitting \n",
        "- Features normalization\n",
        "\n",
        "**Train models**  ⌛\n",
        "- Model creation\n",
        "- Hyperparameters Tuning\n",
        "\n",
        "**Evaluate  Models** 🔔\n",
        "- Comparison of the evaluation of each parameters configuation\n",
        "- Plot the result for each method and parameter\n",
        "\n",
        "**Reference**\n",
        "- Auther and co-auther"
      ],
      "metadata": {
        "id": "rzc0Od6jDnoR"
      }
    },
    {
      "cell_type": "markdown",
      "source": [
        "# **SECTION II : DATA-PREPROCESSING**\n",
        "## **1. Load the dataset** ⏩"
      ],
      "metadata": {
        "id": "8mTANx9qRRmm"
      }
    },
    {
      "cell_type": "code",
      "execution_count": 5,
      "metadata": {
        "colab": {
          "resources": {
            "http://localhost:8080/nbextensions/google.colab/files.js": {
              "data": "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",
              "ok": true,
              "headers": [
                [
                  "content-type",
                  "application/javascript"
                ]
              ],
              "status": 200,
              "status_text": ""
            }
          },
          "base_uri": "https://localhost:8080/",
          "height": 73
        },
        "id": "MlcdLBI_CR3G",
        "outputId": "f39798fa-cfb6-4494-f1b1-5487668ad00a"
      },
      "outputs": [
        {
          "output_type": "display_data",
          "data": {
            "text/plain": [
              "<IPython.core.display.HTML object>"
            ],
            "text/html": [
              "\n",
              "     <input type=\"file\" id=\"files-58cc683c-e786-47da-9b25-f72fd7afa13a\" name=\"files[]\" multiple disabled\n",
              "        style=\"border:none\" />\n",
              "     <output id=\"result-58cc683c-e786-47da-9b25-f72fd7afa13a\">\n",
              "      Upload widget is only available when the cell has been executed in the\n",
              "      current browser session. Please rerun this cell to enable.\n",
              "      </output>\n",
              "      <script src=\"/nbextensions/google.colab/files.js\"></script> "
            ]
          },
          "metadata": {}
        },
        {
          "output_type": "stream",
          "name": "stdout",
          "text": [
            "Saving kc_house_data.csv to kc_house_data (1).csv\n"
          ]
        }
      ],
      "source": [
        "import pandas as pd\n",
        "import io\n",
        "from google.colab import files\n",
        "uploaded = files.upload()\n",
        "data = pd.read_csv(io.BytesIO(uploaded['kc_house_data.csv']))"
      ]
    },
    {
      "cell_type": "markdown",
      "source": [
        "## **2. Import modules**"
      ],
      "metadata": {
        "id": "z0ExqGLeRbGR"
      }
    },
    {
      "cell_type": "code",
      "source": [
        "# import nescessary modules\n",
        "import requests\n",
        "import matplotlib.pyplot as plt\n",
        "import seaborn as sns\n",
        "from sklearn.model_selection import train_test_split\n",
        "from sklearn.preprocessing import MinMaxScaler\n",
        "import numpy as np\n",
        "from scipy.stats import uniform as sp_randFloat\n",
        "from scipy.stats import randint as sp_randInt\n",
        "from sklearn.metrics import mean_absolute_error,mean_squared_error,explained_variance_score\n",
        "from tensorflow.keras.models import Sequential\n",
        "from tensorflow.keras.layers import Dense, Activation\n",
        "from tensorflow.keras import metrics\n",
        "from sklearn.model_selection import RandomizedSearchCV, GridSearchCV\n",
        "from keras.wrappers.scikit_learn import KerasRegressor\n",
        "from tensorflow.keras.optimizers import Adam, RMSprop, SGD\n",
        "from sklearn.model_selection import KFold\n",
        "from sklearn.model_selection import cross_val_score, cross_validate\n"
      ],
      "metadata": {
        "id": "dLrS5rxvEe71"
      },
      "execution_count": 6,
      "outputs": []
    },
    {
      "cell_type": "markdown",
      "source": [
        "## **3. Data visualization**"
      ],
      "metadata": {
        "id": "niAfYQmDRmnP"
      }
    },
    {
      "cell_type": "code",
      "source": [
        "# check dataset\n",
        "print(data.head())\n",
        "print(data.describe())\n",
        "df = data.copy()"
      ],
      "metadata": {
        "id": "EqlbeRkkoqnF"
      },
      "execution_count": null,
      "outputs": []
    },
    {
      "cell_type": "code",
      "source": [
        "def chekNull(data):\n",
        "  #check null value\n",
        "  nullReport = pd.DataFrame({'Null Values' : data.isna().sum(), 'Percentage Null Values' : (data.isna().sum()) / (data.shape[0]) * (100)})\n",
        "  print(\" Null value in this dataset :\")\n",
        "  print(nullReport)"
      ],
      "metadata": {
        "id": "Hq9kVuXdtVRn"
      },
      "execution_count": 13,
      "outputs": []
    },
    {
      "cell_type": "code",
      "source": [
        "def plotCorrelation(data):\n",
        "  # check correlation of each features\n",
        "  print(\" Heatmap represent correlation of each feature\")\n",
        "  plt.figure(figsize = (16, 14))\n",
        "  corr = data.corr()\n",
        "  sns.heatmap(corr, annot = True, linewidths = 1)\n"
      ],
      "metadata": {
        "id": "rYtNP2qQt5GI"
      },
      "execution_count": 19,
      "outputs": []
    },
    {
      "cell_type": "code",
      "source": [
        "#Exploratory Data Analysis\n",
        "chekNull(df)\n",
        "plotCorrelation(df)"
      ],
      "metadata": {
        "id": "NViHqfV3tc8R"
      },
      "execution_count": null,
      "outputs": []
    },
    {
      "cell_type": "code",
      "source": [
        "# print out the correlation of each feature with price\n",
        "rankCorr = df.corr()[\"price\"].sort_values(ascending = False)\n",
        "print(\"Rank of correlation between each feature and price\")\n",
        "print(rankCorr)"
      ],
      "metadata": {
        "id": "LO0LwxpKpHu_"
      },
      "execution_count": null,
      "outputs": []
    },
    {
      "cell_type": "markdown",
      "source": [
        "As we can see from the correlation results :\n",
        "\n",
        "**These features have high correlation with price** 💯\n",
        "- sqft_living      \n",
        "- grade            \n",
        "- sqft_above      \n",
        "- sqft_living15    \n",
        "- bathrooms        "
      ],
      "metadata": {
        "id": "mIVvwSXATDCG"
      }
    },
    {
      "cell_type": "code",
      "source": [
        "# plot all scatter plot for each high coorelated feature and the price\n",
        "highCorre = ['sqft_living', 'grade', 'sqft_above', 'sqft_living15', 'bathrooms']\n",
        "for i in highCorre:\n",
        "  sns.scatterplot(data = df , x= \"price\", y = i)\n",
        "  plt.show()"
      ],
      "metadata": {
        "id": "HhAryeyJM0Ze"
      },
      "execution_count": null,
      "outputs": []
    },
    {
      "cell_type": "markdown",
      "source": [
        "## **4. Feature engineering:** 🔨\n",
        "- **Drop 'id'**\n",
        "- **Extract date time into:**\n",
        "  - day of the week (category)\n",
        "  - months(int)\n",
        "  - years(int) \n",
        "- **Extract Zip code into :**\n",
        "  - zipcode name(object) \n",
        "  - population (float)\n",
        "- **Change year of renovate into binary features( renovated or not? )**\n",
        "  -  year = 0 (no renovate) , any year ( renovated)\n"
      ],
      "metadata": {
        "id": "ZGLoc26tVzAO"
      }
    },
    {
      "cell_type": "code",
      "source": [
        "# drop attribute 'id'\n",
        "df.drop('id', axis = 1, inplace=True)"
      ],
      "metadata": {
        "id": "US8f31blb13C"
      },
      "execution_count": 24,
      "outputs": []
    },
    {
      "cell_type": "code",
      "source": [
        "# change date attribute into date-time format\n",
        "df[\"date\"] = pd.to_datetime(df[\"date\"])\n",
        "# concatenate attribute of 'month', 'year' and 'dayInWeek' that generated from 'date' attribute\n",
        "df[\"month\"] = df[\"date\"].dt.month\n",
        "df[\"year\"] = df[\"date\"].dt.year  \n",
        "df[\"dayInWeek\"] = df[\"date\"].dt.day_name()\n",
        "print(df.head())"
      ],
      "metadata": {
        "id": "rImfstbTifae"
      },
      "execution_count": null,
      "outputs": []
    },
    {
      "cell_type": "code",
      "source": [
        "# drop attribute 'date'\n",
        "df.drop('date', axis = 1, inplace=True)"
      ],
      "metadata": {
        "id": "Kv3JY8f_jjqX"
      },
      "execution_count": 26,
      "outputs": []
    },
    {
      "cell_type": "code",
      "source": [
        "print(df.head())"
      ],
      "metadata": {
        "id": "6J-9y7onoE23"
      },
      "execution_count": null,
      "outputs": []
    },
    {
      "cell_type": "code",
      "source": [
        "# get information from zip code\n",
        "url = requests.get(\"https://www.zipdatamaps.com/king-wa-county-zipcodes\")\n",
        "tables = pd.read_html(url.text)\n",
        "# read the table from the text file\n",
        "zipRe = tables[1]\n",
        "zipRe= zipRe['List of All Zipcodes in King County, Washington']\n",
        "# drop all row that has nan value\n",
        "zipRe = zipRe.dropna(axis = 0)\n",
        "# convert zipcode into type int\n",
        "zipRe['ZIP Code'] = zipRe['ZIP Code'].astype(int)"
      ],
      "metadata": {
        "id": "pCtqYSxojre-"
      },
      "execution_count": 28,
      "outputs": []
    },
    {
      "cell_type": "code",
      "source": [
        "# Drop unwanted attributes\n",
        "zipRe.drop('ZIP Type', axis =1 , inplace = True)"
      ],
      "metadata": {
        "id": "JMHIMn4OoAOS"
      },
      "execution_count": 29,
      "outputs": []
    },
    {
      "cell_type": "code",
      "source": [
        "# merge new features to dataset on zipcode\n",
        "df = df.merge(zipRe, left_on='zipcode', right_on = 'ZIP Code' )\n",
        "print(df.head())"
      ],
      "metadata": {
        "id": "P1LDvRUK77sR"
      },
      "execution_count": null,
      "outputs": []
    },
    {
      "cell_type": "code",
      "source": [
        "# drop original zipcode\n",
        "df.drop(['zipcode','ZIP Code'], axis =1 , inplace = True)"
      ],
      "metadata": {
        "id": "ZXwejF-Z9Du8"
      },
      "execution_count": 31,
      "outputs": []
    },
    {
      "cell_type": "code",
      "source": [
        "# generate renovated(Y/N) feature from yr_renovated, assumed that 0 is represented has not been renovated (0 is no, 1 is yes)\n",
        "df['yr_renovated'] = df['yr_renovated'].apply(lambda x: 1 if x != 0 else 0)\n",
        "df['yr_renovated'].value_counts()\n",
        "print(df.head())"
      ],
      "metadata": {
        "id": "_U1gJYf79Uw0"
      },
      "execution_count": null,
      "outputs": []
    },
    {
      "cell_type": "code",
      "source": [
        "# Check all data type\n",
        "df.info()"
      ],
      "metadata": {
        "id": "hIuwckVANVQW"
      },
      "execution_count": null,
      "outputs": []
    },
    {
      "cell_type": "code",
      "source": [
        "# convert categories data type into numerical value \n",
        "# Create dummiesfor non- numerical value\n",
        "dumDf = df.copy()\n",
        "dumDf = pd.get_dummies(dumDf, columns = ['dayInWeek', 'ZIP Code Name'])"
      ],
      "metadata": {
        "id": "sV2vpTw_NFeG"
      },
      "execution_count": 34,
      "outputs": []
    },
    {
      "cell_type": "code",
      "source": [
        "# Check the processed data \n",
        "print(dumDf.info())\n",
        "print(dumDf.head())"
      ],
      "metadata": {
        "id": "7F4QICF-R3L_"
      },
      "execution_count": null,
      "outputs": []
    },
    {
      "cell_type": "markdown",
      "source": [
        "# **SECTION III : MODEL DEVELOPEMENT AND HYPERPARAMETERS TUNING**\n",
        "## **Algorithm pipeline** ⛏\n",
        "\n",
        "\n",
        "*   Split data in to train and test with variation of size\n",
        "*   Scaling the input data using MinMaxScalar\n",
        "*   Fit data with different models\n",
        "*   Create evaluation reports for each model\n",
        "*   Plot loss function graph comparing different hyperparameters\n",
        "\n",
        "## **Neural Network model architecture** 🧱\n",
        "\n",
        "Tuning Hyperparameters as following\n",
        "1. Learning Rate\n",
        "2. Batch Size\n",
        "3. Number of epochs\n",
        "4. Activation functions\n",
        "5. Optimizers\n",
        "6. Loss function\n",
        "7. Number of Hidden Layers\n",
        "8. Number of nodes in the hidden layers"
      ],
      "metadata": {
        "id": "B0wUIPB5SEpz"
      }
    },
    {
      "cell_type": "markdown",
      "source": [
        "## **1. Train and Test data splitting**"
      ],
      "metadata": {
        "id": "rUg0DOPxVi3R"
      }
    },
    {
      "cell_type": "code",
      "source": [
        "# split dataset into train set and test set\n",
        "x = dumDf.drop(\"price\", axis = 1)\n",
        "y = dumDf[\"price\"]\n",
        "\n",
        "xTrain, xTest, yTrain, yTest = train_test_split(x, y, test_size=0.3, random_state=42)"
      ],
      "metadata": {
        "id": "zpC_iaKoW6hP"
      },
      "execution_count": 36,
      "outputs": []
    },
    {
      "cell_type": "markdown",
      "source": [
        "## **2. Features Normalization**"
      ],
      "metadata": {
        "id": "WsBQpP9BVuVI"
      }
    },
    {
      "cell_type": "code",
      "source": [
        "# Normaliza feature into range [0, 1]\n",
        "scaler = MinMaxScaler()\n",
        "xTrainScaled = scaler.fit_transform(xTrain)\n",
        "xTestScaled =  scaler.transform(xTest)"
      ],
      "metadata": {
        "id": "VVTioBxmX_Jg"
      },
      "execution_count": 37,
      "outputs": []
    },
    {
      "cell_type": "code",
      "source": [
        "# check data in xtrain and xtest\n",
        "print(xTrainScaled[0,:])\n",
        "print(xTestScaled[0,:])"
      ],
      "metadata": {
        "id": "VVMdrpuLNKr4"
      },
      "execution_count": null,
      "outputs": []
    },
    {
      "cell_type": "code",
      "source": [
        "# find the number of input features\n",
        "n_features = x.shape[1]\n",
        "print(n_features)"
      ],
      "metadata": {
        "id": "GNPX9BcrzoPY"
      },
      "execution_count": null,
      "outputs": []
    },
    {
      "cell_type": "markdown",
      "source": [
        "## **3. Model developement and hyperparameters tuning** ⚓\n",
        "\n",
        "*   Model Creation and Compiling \n",
        "*   Hyperparameters tuning\n",
        "\n",
        "\n",
        "\n"
      ],
      "metadata": {
        "id": "-7hBW9PePeNX"
      }
    },
    {
      "cell_type": "markdown",
      "source": [
        "**Hyperparameter Tuning** ⏩\n",
        "\n",
        "Each hyperparameters are optimized using randomSearchCV and GridSearchCV  "
      ],
      "metadata": {
        "id": "ZyS2DUTbNGO5"
      }
    },
    {
      "cell_type": "code",
      "source": [
        "#creating a model for hyperparameters tuning\n",
        "#start with 4 layers for testing each hyperparameters\n",
        "def createModel(learningRate=0.01,activation_fn='relu',numNeurons=16,loss='mean_squared_error',optimizer='Adam',  epochs=100, dim =51):\n",
        "    model = Sequential()\n",
        "    model.add(Dense(numNeurons, input_dim = dim,  activation=activation_fn))\n",
        "    model.add(Dense(numNeurons, activation=activation_fn))\n",
        "    model.add(Dense(numNeurons, activation=activation_fn))\n",
        "    model.add(Dense(numNeurons, activation=activation_fn))\n",
        "    model.add(Dense(1))\n",
        "    if optimizer == 'Adam':\n",
        "      opt= Adam(learning_rate = learningRate)\n",
        "    elif optimizer == 'RMSprop':\n",
        "      opt= RMSprop(learning_rate = learningRate)\n",
        "    elif optimizer == 'SGD':\n",
        "      opt= SGD(learning_rate = learningRate)\n",
        "    # compile the model with defined optimizer\n",
        "    model.compile(optimizer=opt,loss=loss)\n",
        "\n",
        "    return model"
      ],
      "metadata": {
        "id": "-iWgyLP0NJ98"
      },
      "execution_count": 40,
      "outputs": []
    },
    {
      "cell_type": "code",
      "source": [
        "model = KerasRegressor(build_fn = createModel, verbose = 0)"
      ],
      "metadata": {
        "id": "maT0rs01NePq"
      },
      "execution_count": null,
      "outputs": []
    },
    {
      "cell_type": "markdown",
      "source": [
        "**1.Tuning the Learning Rate**"
      ],
      "metadata": {
        "id": "UR9Uvsx8Npyd"
      }
    },
    {
      "cell_type": "code",
      "source": [
        "# Get random float number for learning rate\n",
        "paramsLearnRate = {'learningRate': [0.0001, 0.001,0.01,0.1,1]}\n",
        "\n",
        "# Create a grid search cv object \n",
        "kfold = KFold(n_splits=2)\n",
        "gridCVofLR = GridSearchCV(model, param_grid = paramsLearnRate , cv = kfold, verbose=1, return_train_score=True )\n",
        "gridCVofLR.fit(xTrain, yTrain)\n",
        "\n",
        "# print out the best score \n",
        "print(\" Best Score : {} with Best Learning rate : {} \".format(gridCVofLR.best_score_ , gridCVofLR.best_params_['learningRate']))\n",
        "\n",
        "# Result of grid search CV\n",
        "# Get list of parameter values\n",
        "paramsLRs =  gridCVofLR.cv_results_['params']\n",
        "paramsLR = []\n",
        "for item in paramsLRs:\n",
        "  paramsLR.append(item['learningRate'])\n",
        "\n",
        "testScoresLR = gridCVofLR.cv_results_['mean_test_score']\n",
        "trainScoresLR = gridCVofLR.cv_results_['mean_train_score'] \n",
        "testSdLR = gridCVofLR.cv_results_['std_test_score']\n",
        "trainSdLR = gridCVofLR.cv_results_['std_train_score']\n",
        "\n",
        "# print out the result of each candidate in Grid search CV\n",
        "print(\" Result of Grid Search CV (Test score) \")\n",
        "for param, mean, std in zip(paramsLR, testScoresLR , testSdLR ):\n",
        "    print(\" Learning Rate : {:.3f}  Means : {:.3f}  SD : {:.3f}\".format(param, mean ,std))\n",
        "\n",
        "print(\" Result of Grid Search CV (Train score) \")\n",
        "for param, mean, std in zip(paramsLR, trainScoresLR , trainSdLR ):\n",
        "    print(\" Learning Rate : {:.3f}  Means : {:.3f}  SD : {:.3f}\".format(param, mean ,std))\n",
        "\n",
        "\n",
        "# use trained model to predict the output\n",
        "yPredLR = gridCVofLR.predict(xTestScaled)\n",
        "errorLR = pd.DataFrame([[mean_squared_error(yTest,yPredLR), np.sqrt(mean_squared_error(yTest,yPredLR)),\n",
        "                    mean_absolute_error(yTest,yPredLR), explained_variance_score(yTest,yPredLR)]],\n",
        "                   columns=[\"Means Squared Error\",\"Root Means Squared Error\", \"Mean Absolute Error\",\"Explained Variance Score\"])\n",
        "print(\"Model Evaluation\")\n",
        "errorLR.T"
      ],
      "metadata": {
        "id": "s-zC7h2ANo0e"
      },
      "execution_count": null,
      "outputs": []
    },
    {
      "cell_type": "markdown",
      "source": [
        "**2.Tuning the Batch Size**"
      ],
      "metadata": {
        "id": "gBAOEBJjphWH"
      }
    },
    {
      "cell_type": "code",
      "source": [
        "# batch size candidate is a number that can be divided into the total dataset size.\n",
        "paramsBatchSize = {\"batch_size\": [8, 16, 32, 64, 128, 256]}\n",
        "\n",
        "# use GridSearch for batch size tuning\n",
        "kfold = KFold(n_splits=2)\n",
        "gridCVofBS = GridSearchCV(model, param_grid = paramsBatchSize, cv = kfold, verbose=1, return_train_score=True )\n",
        "gridCVofBS.fit(xTrain, yTrain)\n",
        "\n",
        "# print out the best score \n",
        "print(\" Best Score : {} with Best Batch Size : {} \".format(gridCVofBS.best_score_ , gridCVofBS.best_params_['batch_size']))\n",
        "\n",
        "# Result of Grid search CV\n",
        "# Get list of parameter values\n",
        "paramsBSs =  gridCVofBS.cv_results_['params']\n",
        "paramsBS = []\n",
        "for item in paramsBSs:\n",
        "  paramsBS.append(item[\"batch_size\"])\n",
        "\n",
        "testScoresBS = gridCVofBS.cv_results_['mean_test_score']\n",
        "trainScoresBS = gridCVofBS.cv_results_['mean_train_score'] \n",
        "testSdBS = gridCVofBS.cv_results_['std_test_score']\n",
        "trainSdBS = gridCVofBS.cv_results_['std_train_score']\n",
        "\n",
        "\n",
        "# print out the result of each candidate in Grid search CV\n",
        "print(\" Result of Grid Search CV (Test score) \")\n",
        "for param, mean, std in zip(paramsBS, testScoresBS , testSdBS ):\n",
        "    print(\" Batch Size : {:.3f}  Means : {:.3f}  SD : {:.3f}\".format(param, mean ,std))\n",
        "\n",
        "print(\" Result of Grid Search CV (Train score) \")\n",
        "for param, mean, std in zip(paramsBS, trainScoresBS , trainSdBS ):\n",
        "    print(\" Batch Size : {:.3f}  Means : {:.3f}  SD : {:.3f}\".format(param, mean ,std))\n",
        "\n",
        "\n",
        "# use trained model to predict the output\n",
        "yPredBS = gridCVofBS.predict(xTestScaled)\n",
        "errorBS = pd.DataFrame([[mean_squared_error(yTest,yPredBS), np.sqrt(mean_squared_error(yTest,yPredBS)),\n",
        "                    mean_absolute_error(yTest,yPredBS), explained_variance_score(yTest,yPredBS)]],\n",
        "                   columns=[\"Means Squared Error\",\"Root Means Squared Error\", \"Mean Absolute Error\",\"Explained Variance Score\"])\n",
        "print(\"Model Evaluation of Batch size Tunning\")\n",
        "errorBS.T"
      ],
      "metadata": {
        "id": "4nN5psqxpp67"
      },
      "execution_count": null,
      "outputs": []
    },
    {
      "cell_type": "markdown",
      "source": [
        "**3.Tuning the number of epochs**"
      ],
      "metadata": {
        "id": "wVsQ_c90s7xz"
      }
    },
    {
      "cell_type": "code",
      "source": [
        "paramsNumberOfEpoch = {'epochs': sp_randInt(10, 1000)}\n",
        "\n",
        "# Create a randomize search cv object \n",
        "kfold = KFold(n_splits=2)\n",
        "randCVofEpo = RandomizedSearchCV(model, param_distributions = paramsNumberOfEpoch, cv = kfold, n_iter=10, verbose=1, return_train_score=True, scoring = 'neg_mean_squared_error')\n",
        "randCVofEpo.fit(xTrain, yTrain)\n",
        "\n",
        "# print out the best score \n",
        "print(\" Best score : {} with Best Number of Epochs : {} \".format(randCVofEpo.best_score_ , randCVofEpo.best_params_['epochs']))\n",
        "\n",
        "# Result of randomized search CV\n",
        "# Get list of parameter values\n",
        "paramsEpos =  randCVofEpo.cv_results_['params']\n",
        "paramsEpo = []\n",
        "for item in paramsEpos:\n",
        "  paramsEpo.append(item['epochs'])\n",
        "\n",
        "testScoresEpo = randCVofEpo.cv_results_['mean_test_score']\n",
        "trainScoresEpo = randCVofEpo.cv_results_['mean_train_score'] \n",
        "testSdEpo = randCVofEpo.cv_results_['std_test_score']\n",
        "trainSdEpo = randCVofEpo.cv_results_['std_train_score']\n",
        "\n",
        "# print out the result of each candidate in randomized search CV\n",
        "print(\" Result of randomized Search CV (Test score) \")\n",
        "for param, mean, std in zip(paramsEpo, testScoresEpo , testSdEpo ):\n",
        "    print(\" Number of epochs : {}  Means : {:.3f}  SD : {:.3f}\".format(param, mean ,std))\n",
        "\n",
        "print(\" Result of randomized Search CV (Train score) \")\n",
        "for param, mean, std in zip(paramsEpo, trainScoresEpo , trainSdEpo ):\n",
        "    print(\" Number of epochs : {}  Means : {:.3f}  SD : {:.3f}\".format(param, mean ,std))\n",
        "\n",
        "\n",
        "# use trained model to predict the output\n",
        "yPredEpo = randCVofEpo.predict(xTestScaled)\n",
        "errorEpo = pd.DataFrame([[mean_squared_error(yTest,yPredEpo), np.sqrt(mean_squared_error(yTest,yPredEpo)),\n",
        "                    mean_absolute_error(yTest,yPredEpo), explained_variance_score(yTest,yPredEpo)]],\n",
        "                   columns=[\"Means Squared Error\",\"Root Means Squared Error\", \"Mean Absolute Error\",\"Explained Variance Score\"])\n",
        "print(\"Model Evaluation of Epochs Tunning\")\n",
        "errorEpo.T\n"
      ],
      "metadata": {
        "id": "oYT3UJeztDCl"
      },
      "execution_count": null,
      "outputs": []
    },
    {
      "cell_type": "markdown",
      "source": [
        "**4.Tuning the activation function**"
      ],
      "metadata": {
        "id": "j2nwOFXnwmMm"
      }
    },
    {
      "cell_type": "code",
      "source": [
        "paramsActFunction = {'activation_fn':['relu', 'sigmoid', 'selu', 'softmax', 'tanh']}\n",
        "\n",
        "# Create GridSearch object for activation function tuning\n",
        "kfold = KFold(n_splits=2)\n",
        "gridCVofAF = GridSearchCV(model, param_grid = paramsActFunction , cv = kfold, verbose=1, return_train_score=True, scoring = 'neg_mean_squared_error')\n",
        "gridCVofAF.fit(xTrain, yTrain)\n",
        "\n",
        "# print out the best score \n",
        "print(\" Best Score : {} with Activation Function : {} \".format(gridCVofAF.best_score_ , gridCVofAF.best_params_['activation_fn']))\n",
        "\n",
        "# Result of Grid search CV\n",
        "# Get list of parameter values\n",
        "paramsAFs =  gridCVofAF.cv_results_['params']\n",
        "paramsAF = []\n",
        "for item in paramsAFs:\n",
        "  paramsAF.append(item[\"activation_fn\"])\n",
        "\n",
        "testScoresAF = gridCVofAF.cv_results_['mean_test_score']\n",
        "trainScoresAF = gridCVofAF.cv_results_['mean_train_score'] \n",
        "testSdAF= gridCVofAF.cv_results_['std_test_score']\n",
        "trainSdAF = gridCVofAF.cv_results_['std_train_score']\n",
        "\n",
        "\n",
        "# print out the result of each candidate in grid search CV\n",
        "print(\" Result of Grid Search CV (Test score) \")\n",
        "for param, mean, std in zip(paramsAF, testScoresAF , testSdAF ):\n",
        "    print(\" Activation Function : {}  Means : {:.3f}  SD : {:.3f}\".format(param, mean ,std))\n",
        "\n",
        "print(\" Result of Grid Search CV (Train score) \")\n",
        "for param, mean, std in zip(paramsAF, trainScoresAF , trainSdAF ):\n",
        "    print(\" Activation Function : {}  Means : {:.3f}  SD : {:.3f}\".format(param, mean ,std))\n",
        "\n",
        "\n",
        "# use trained model to predict the output\n",
        "yPredAF = gridCVofAF.predict(xTestScaled)\n",
        "errorAF = pd.DataFrame([[mean_squared_error(yTest,yPredAF), np.sqrt(mean_squared_error(yTest,yPredAF)),\n",
        "                    mean_absolute_error(yTest,yPredAF), explained_variance_score(yTest,yPredAF)]],\n",
        "                   columns=[\"Means Squared Error\",\"Root Means Squared Error\", \"Mean Absolute Error\",\"Explained Variance Score\"])\n",
        "print(\"Model Evaluation of Activation function Tunning\")\n",
        "errorAF.T"
      ],
      "metadata": {
        "id": "F19VAuuHwuQQ"
      },
      "execution_count": null,
      "outputs": []
    },
    {
      "cell_type": "markdown",
      "source": [
        "**5.Tuning the optimizer**"
      ],
      "metadata": {
        "id": "5CBxHFGr7nti"
      }
    },
    {
      "cell_type": "code",
      "source": [
        "paramsOptimizer = {'optimizer':['Adam','RMSprop', 'SGD']}\n",
        "\n",
        "# Create GridSearch object for activation function tuning\n",
        "kfold = KFold(n_splits=2)\n",
        "gridCVofOpt = GridSearchCV(model, param_grid = paramsOptimizer , cv = kfold, verbose=1, return_train_score=True )\n",
        "gridCVofOpt.fit(xTrain, yTrain)\n",
        "\n",
        "# print out the best score \n",
        "print(\" Best Score : {} with Best Batch Size : {} \".format(gridCVofOpt.best_score_ , gridCVofOpt.best_params_['optimizer']))\n",
        "\n",
        "# Result of Grid search CV\n",
        "# Get list of parameter values\n",
        "paramsOpts=  gridCVofOpt.cv_results_['params']\n",
        "paramsOpt = []\n",
        "for item in paramsOpts:\n",
        "  paramsOpt.append(item['optimizer'])\n",
        "\n",
        "testScoresOpt = gridCVofOpt.cv_results_['mean_test_score']\n",
        "trainScoresOpt = gridCVofOpt.cv_results_['mean_train_score'] \n",
        "testSdOpt= gridCVofOpt.cv_results_['std_test_score']\n",
        "trainSdOpt = gridCVofOpt.cv_results_['std_train_score']\n",
        "\n",
        "\n",
        "# print out the result of each candidate in grid search CV\n",
        "print(\" Result of Grid Search CV (Test score) \")\n",
        "for param, mean, std in zip(paramsOpt, testScoresOpt , testSdOpt ):\n",
        "    print(\" Optimizer : {}  Means : {:.3f}  SD : {:.3f}\".format(param, mean ,std))\n",
        "\n",
        "print(\" Result of Grid Search CV (Train score) \")\n",
        "for param, mean, std in zip(paramsOpt, trainScoresOpt , trainSdOpt ):\n",
        "    print(\" Optimizer : {}  Means : {:.3f}  SD : {:.3f}\".format(param, mean ,std))\n",
        "\n",
        "# use trained model to predict the output\n",
        "yPredOpt = gridCVofOpt.predict(xTestScaled)\n",
        "errorOpt= pd.DataFrame([[mean_squared_error(yTest,yPredOpt), np.sqrt(mean_squared_error(yTest,yPredOpt)),\n",
        "                    mean_absolute_error(yTest,yPredOpt), explained_variance_score(yTest,yPredOpt)]],\n",
        "                   columns=[\"Means Squared Error\",\"Root Means Squared Error\", \"Mean Absolute Error\",\"Explained Variance Score\"])\n",
        "print(\"Model Evaluation of Activation function Tunning\")\n",
        "errorOpt.T\n"
      ],
      "metadata": {
        "id": "Rgghz2x38cei"
      },
      "execution_count": null,
      "outputs": []
    },
    {
      "cell_type": "markdown",
      "source": [
        "**6.Tuning the Loss Function**"
      ],
      "metadata": {
        "id": "I4FVBA7c_HVh"
      }
    },
    {
      "cell_type": "code",
      "source": [
        "paramsLossFunction = {'loss':['mean_squared_error','mean_absolute_error','binary_crossentropy']}\n",
        "\n",
        "# Create GridSearch object for Loss function tuning\n",
        "kfold = KFold(n_splits=2)\n",
        "gridCVofLoss = GridSearchCV(model, param_grid = paramsLossFunction, cv = kfold, verbose=1, return_train_score=True, scoring = 'neg_mean_squared_error')\n",
        "gridCVofLoss.fit(xTrain, yTrain)\n",
        "\n",
        "# print out the best score \n",
        "print(\" Best Score : {} with Loss Function : {} \".format(gridCVofLoss.best_score_ , gridCVofLoss.best_params_['loss']))\n",
        "\n",
        "# Result of Grid search CV\n",
        "# Get list of parameter values\n",
        "paramsLosses=  gridCVofLoss.cv_results_['params']\n",
        "paramsLoss= []\n",
        "for item in paramsLosses:\n",
        "  paramsLoss.append(item['loss'])\n",
        "\n",
        "testScoresLoss = gridCVofLoss.cv_results_['mean_test_score']\n",
        "trainScoresLoss = gridCVofLoss.cv_results_['mean_train_score'] \n",
        "testSdLoss= gridCVofLoss.cv_results_['std_test_score']\n",
        "trainSdLoss = gridCVofLoss.cv_results_['std_train_score']\n",
        "\n",
        "\n",
        "# print out the result of each candidate in grid search CV\n",
        "print(\" Result of Grid Search CV (Test score) \")\n",
        "for param, mean, std in zip(paramsOpt, testScoresLoss , testSdLoss ):\n",
        "    print(\" Loss Function : {}  Means : {:.3f}  SD : {:.3f}\".format(param, mean ,std))\n",
        "\n",
        "print(\" Result of Grid Search CV (Train score) \")\n",
        "for param, mean, std in zip(paramsOpt, trainScoresLoss , trainSdLoss ):\n",
        "    print(\" Loss Function : {}  Means : {:.3f}  SD : {:.3f}\".format(param, mean ,std))\n",
        "\n",
        "\n",
        "\n",
        "# use trained model to predict the output\n",
        "yPredLoss = gridCVofLoss.predict(xTestScaled)\n",
        "errorLoss= pd.DataFrame([[mean_squared_error(yTest,yPredLoss), np.sqrt(mean_squared_error(yTest,yPredLoss)),\n",
        "                    mean_absolute_error(yTest,yPredLoss), explained_variance_score(yTest,yPredLoss)]],\n",
        "                   columns=[\"Means Squared Error\",\"Root Means Squared Error\", \"Mean Absolute Error\",\"Explained Variance Score\"])\n",
        "print(\"Model Evaluation of Loss function Tunning\")\n",
        "errorLoss.T\n",
        "\n"
      ],
      "metadata": {
        "id": "19YzQtrV_Nh4"
      },
      "execution_count": null,
      "outputs": []
    },
    {
      "cell_type": "markdown",
      "source": [
        "**7.Tuning the number of neurons in the hidden layers**"
      ],
      "metadata": {
        "id": "NlrPIVl8EHnR"
      }
    },
    {
      "cell_type": "code",
      "source": [
        "\n",
        "paramsNumberOfNeuron = {'numNeurons': [i for i in range(1,21)]}\n",
        "\n",
        "# Create a grid search cv object \n",
        "kfold = KFold(n_splits=2)\n",
        "gridCVofNoNeu = GridSearchCV(model, param_grid = paramsNumberOfNeuron, cv = kfold, verbose=1, return_train_score=True, scoring = 'neg_mean_squared_error')\n",
        "gridCVofNoNeu.fit(xTrain, yTrain)\n",
        "\n",
        "# print out the best score \n",
        "print(\" Best score : {} with Best Number of Neuron of each layer : {} \".format(gridCVofNoNeu.best_score_ , gridCVofNoNeu.best_params_['numNeurons']) )\n",
        "\n",
        "# Result of grid search CV\n",
        "# Get list of parameter values\n",
        "paramsNoNeus =  gridCVofNoNeu.cv_results_['params']\n",
        "paramsNoNeu = []\n",
        "for item in paramsNoNeus:\n",
        "  paramsNoNeu.append(item['numNeurons'])\n",
        "\n",
        "testScoresNoNeu= gridCVofNoNeu.cv_results_['mean_test_score']\n",
        "trainScoresNoNeu = gridCVofNoNeu.cv_results_['mean_train_score'] \n",
        "testSdNoNeu = gridCVofNoNeu.cv_results_['std_test_score']\n",
        "trainSdNoNeu = gridCVofNoNeu.cv_results_['std_train_score']\n",
        "\n",
        "# print out the result of each candidate in grid search CV\n",
        "print(\" Result of Grid Search CV (Test score) \")\n",
        "for param, mean, std in zip(paramsNoNeu, testScoresNoNeu , testSdNoNeu ):\n",
        "    print(\" Number of Neuron : {}  Means : {:.3f}  SD : {:.3f}\".format(param, mean ,std))\n",
        "\n",
        "print(\" Result of Grid Search CV (Train score) \")\n",
        "for param, mean, std in zip(paramsNoNeu, trainScoresNoNeu, trainSdNoNeu ):\n",
        "    print(\" Number of Neuron : {}  Means : {:.3f}  SD : {:.3f}\".format(param, mean ,std))\n",
        "\n",
        "\n",
        "# use trained model to predict the output\n",
        "yPredNoNeu = gridCVofNoNeu.predict(xTestScaled)\n",
        "errorNoNeu= pd.DataFrame([[mean_squared_error(yTest,yPredNoNeu), np.sqrt(mean_squared_error(yTest,yPredNoNeu)),\n",
        "                    mean_absolute_error(yTest,yPredNoNeu), explained_variance_score(yTest,yPredNoNeu)]],\n",
        "                   columns=[\"Means Squared Error\",\"Root Means Squared Error\", \"Mean Absolute Error\",\"Explained Variance Score\"])\n",
        "print(\"Model Evaluation of Epochs Tunning\")\n",
        "errorNoNeu.T\n"
      ],
      "metadata": {
        "id": "3kG7Vp1oEUo9"
      },
      "execution_count": null,
      "outputs": []
    },
    {
      "cell_type": "markdown",
      "source": [
        "**8.Tuning the number of hidden layers**"
      ],
      "metadata": {
        "id": "Qxo5DgipJRpy"
      }
    },
    {
      "cell_type": "code",
      "source": [
        "# creating another model to change the hidden layers based on random search\n",
        "def createModelLayer(layers = 1 , dim = 51):\n",
        "    model = Sequential()\n",
        "    model.add(Dense(16, input_dim = dim , activation= 'relu'))\n",
        "    # add 16 neurons for each layer\n",
        "    for i in range(0, layers-1):\n",
        "      model.add(Dense(16, activation= 'relu'))\n",
        "    # add output layer\n",
        "    model.add(Dense(1))\n",
        "\n",
        "    model.compile(optimizer='adam', loss = 'mean_squared_error')\n",
        "    return model\n",
        "\n",
        "modelLayer = KerasRegressor(build_fn = createModelLayer, verbose = 0, epochs=100)\n",
        "\n",
        "paramsNumberOfLayer = {'layers': [1,2,3,4]}\n",
        "\n",
        "\n",
        "# Create a grid search cv object \n",
        "kfold = KFold(n_splits=2)\n",
        "gridCVofNoLayer = GridSearchCV(modelLayer, param_grid= paramsNumberOfLayer, cv = kfold, verbose=1, return_train_score=True)\n",
        "gridCVofNoLayer.fit(xTrain, yTrain)\n",
        "\n",
        "# print out the best score \n",
        "print(\" Best score : {} with Best Number of Neuron of each layer : {} \".format(gridCVofNoLayer.best_score_ , gridCVofNoLayer.best_params_['layers']) )\n",
        "\n",
        "# Result of grid search CV\n",
        "# Get list of parameter values\n",
        "paramsNoLayers =  gridCVofNoLayer.cv_results_['params']\n",
        "paramsNoLayer = []\n",
        "for item in paramsNoLayers:\n",
        "  paramsNoLayer.append(item['layers'])\n",
        "\n",
        "\n",
        "testScoresNoLayer= gridCVofNoLayer.cv_results_['mean_test_score']\n",
        "trainScoresNoLayer = gridCVofNoLayer.cv_results_['mean_train_score'] \n",
        "testSdNoLayer = gridCVofNoLayer.cv_results_['std_test_score']\n",
        "trainSdNoLayer = gridCVofNoLayer.cv_results_['std_train_score']\n",
        "\n",
        "# print out the result of each candidate in grid search CV\n",
        "print(\" Result of randomized Search CV (Test score) \")\n",
        "for param, mean, std in zip(paramsNoLayer, testScoresNoLayer, testSdNoLayer ):\n",
        "    print(\" Number of Neuron networ layer : {}  Means : {:.3f}  SD : {:.3f}\".format(param, mean ,std))\n",
        "\n",
        "print(\" Result of randomized Search CV (Train score) \")\n",
        "for param, mean, std in zip(paramsNoLayer, trainScoresNoLayer, trainSdNoLayer ):\n",
        "    print(\" Number of Neuron netwrok layer : {}  Means : {:.3f}  SD : {:.3f}\".format(param, mean ,std))\n",
        "\n",
        "# plot validation curve\n",
        "\n",
        "#plotResult(paramsLR, testScoresLR , testSdLR, trainScoresLR  , trainSdLR)\n",
        "\n",
        "# use trained model to predict the output\n",
        "yPredNoLayer= gridCVofNoLayer.predict(xTestScaled)\n",
        "errorNoLayer= pd.DataFrame([[mean_squared_error(yTest,yPredNoLayer), np.sqrt(mean_squared_error(yTest,yPredNoLayer)),\n",
        "                    mean_absolute_error(yTest,yPredNoLayer), explained_variance_score(yTest,yPredNoLayer)]],\n",
        "                   columns=[\"Means Squared Error\",\"Root Means Squared Error\", \"Mean Absolute Error\",\"Explained Variance Score\"])\n",
        "print(\"Model Evaluation of Number of Layer Tunning\")\n",
        "errorNoLayer.T\n",
        "\n"
      ],
      "metadata": {
        "id": "s2FA2vBrttMe"
      },
      "execution_count": null,
      "outputs": []
    },
    {
      "cell_type": "markdown",
      "source": [
        "# **Result of Tuning Experiment**\n",
        "\n",
        "\n",
        "According to our experiments using RandomSearch and GridSearch to find tuned parameters \n",
        "- Learning Rate       : **best 0.01 within range [0.0001,0.001,0.01,0.1,1]**\n",
        "- Batch Size          : **8**\n",
        "- Activation function : **'selu'**\n",
        "- Optimizer           : **RMSprop**\n",
        "- Loss function       : **'mean_squared_error'**\n",
        "- Epochs               : **best with 325  within range(10,1000)**\n",
        "- Number of Neurons per layer : **best two values are 17,15 within range(1,20)**\n",
        "- Number of Layes             : **best with 4 within range [1,2,3,4]**\n",
        "\n",
        "However, combination of best parameters from each experiments does not guarantee the best models, and also it might lead to overfitting.\n",
        "\n",
        "\n",
        "\n",
        "So, we will tune only some parameters and propose 4 models"
      ],
      "metadata": {
        "id": "0YTG5o8tWre8"
      }
    },
    {
      "cell_type": "markdown",
      "source": [
        "**MODEL 1**\n",
        "\n",
        "Default parameters that have been defined :\n",
        "- Activation function : 'relu'\n",
        "- Number of hidden layers : 4\n",
        "- Number of neuron for each layer : 17\n",
        "- Optimizer : Adam\n",
        "- Learning rate : 0.01\n",
        "- Loss function : 'mean_squared_error'\n",
        "- Batch size : 128\n",
        "- epochs : 50\n"
      ],
      "metadata": {
        "id": "7U_S5-UcOtCk"
      }
    },
    {
      "cell_type": "code",
      "source": [
        "# create model structure using sequential (plain stack of layers)\n",
        "# model without tuning hyperparamter\n",
        "model1 = Sequential()\n",
        "model1.add(Dense(17, input_dim=51, activation='relu'))\n",
        "model1.add(Dense(17,activation='relu'))\n",
        "model1.add(Dense(17,activation='relu'))\n",
        "model1.add(Dense(17,activation='relu'))\n",
        "model1.add(Dense(1))\n",
        "# use Adam as optimizer with learning rate = 0.01 \n",
        "# use means square error as loss function\n",
        "opt1= Adam(learning_rate=0.01)\n",
        "model1.compile(optimizer=opt1,loss='mean_squared_error', metrics = ['mean_absolute_error'] )\n"
      ],
      "metadata": {
        "id": "sTuos-O3Ht3P"
      },
      "execution_count": 45,
      "outputs": []
    },
    {
      "cell_type": "code",
      "source": [
        "# model structure summary\n",
        "model1.summary()"
      ],
      "metadata": {
        "id": "_02xDC8_VOUU"
      },
      "execution_count": null,
      "outputs": []
    },
    {
      "cell_type": "code",
      "source": [
        "# Fit the model into train dataset and split of validate 0.2\n",
        "result1 = model1.fit(x=xTrainScaled,y=yTrain, validation_split= 0.2, batch_size=128,epochs=50 )"
      ],
      "metadata": {
        "id": "D8v4fjZ5LTSC",
        "colab": {
          "base_uri": "https://localhost:8080/"
        },
        "outputId": "896a4a5e-a953-4187-cdd4-1b9f5bcfabf9"
      },
      "execution_count": 47,
      "outputs": [
        {
          "output_type": "stream",
          "name": "stdout",
          "text": [
            "Epoch 1/50\n",
            "95/95 [==============================] - 1s 4ms/step - loss: 397957005312.0000 - mean_absolute_error: 515408.1875 - val_loss: 277036204032.0000 - val_mean_absolute_error: 362611.2812\n",
            "Epoch 2/50\n",
            "95/95 [==============================] - 0s 3ms/step - loss: 115738599424.0000 - mean_absolute_error: 215677.8594 - val_loss: 112958013440.0000 - val_mean_absolute_error: 191439.4219\n",
            "Epoch 3/50\n",
            "95/95 [==============================] - 0s 3ms/step - loss: 86075777024.0000 - mean_absolute_error: 181674.4375 - val_loss: 94573109248.0000 - val_mean_absolute_error: 173178.0781\n",
            "Epoch 4/50\n",
            "95/95 [==============================] - 0s 3ms/step - loss: 69397921792.0000 - mean_absolute_error: 158539.2812 - val_loss: 74433683456.0000 - val_mean_absolute_error: 143955.5781\n",
            "Epoch 5/50\n",
            "95/95 [==============================] - 0s 3ms/step - loss: 54314348544.0000 - mean_absolute_error: 133756.3438 - val_loss: 59516125184.0000 - val_mean_absolute_error: 128977.9219\n",
            "Epoch 6/50\n",
            "95/95 [==============================] - 0s 3ms/step - loss: 46980747264.0000 - mean_absolute_error: 127024.1875 - val_loss: 53008769024.0000 - val_mean_absolute_error: 128575.6094\n",
            "Epoch 7/50\n",
            "95/95 [==============================] - 0s 3ms/step - loss: 43338297344.0000 - mean_absolute_error: 123812.4453 - val_loss: 49355448320.0000 - val_mean_absolute_error: 127800.9766\n",
            "Epoch 8/50\n",
            "95/95 [==============================] - 0s 3ms/step - loss: 40972763136.0000 - mean_absolute_error: 121940.6562 - val_loss: 46546751488.0000 - val_mean_absolute_error: 119811.1484\n",
            "Epoch 9/50\n",
            "95/95 [==============================] - 0s 3ms/step - loss: 39198068736.0000 - mean_absolute_error: 119111.9375 - val_loss: 44341891072.0000 - val_mean_absolute_error: 119246.7656\n",
            "Epoch 10/50\n",
            "95/95 [==============================] - 0s 3ms/step - loss: 37283209216.0000 - mean_absolute_error: 116358.5156 - val_loss: 41000136704.0000 - val_mean_absolute_error: 114339.8672\n",
            "Epoch 11/50\n",
            "95/95 [==============================] - 0s 3ms/step - loss: 34921578496.0000 - mean_absolute_error: 111287.7578 - val_loss: 38030516224.0000 - val_mean_absolute_error: 109641.4141\n",
            "Epoch 12/50\n",
            "95/95 [==============================] - 0s 3ms/step - loss: 32823375872.0000 - mean_absolute_error: 107751.2656 - val_loss: 35542458368.0000 - val_mean_absolute_error: 107201.7266\n",
            "Epoch 13/50\n",
            "95/95 [==============================] - 0s 3ms/step - loss: 31317078016.0000 - mean_absolute_error: 105884.9922 - val_loss: 33724663808.0000 - val_mean_absolute_error: 108494.1797\n",
            "Epoch 14/50\n",
            "95/95 [==============================] - 0s 3ms/step - loss: 30199750656.0000 - mean_absolute_error: 105157.4219 - val_loss: 32869867520.0000 - val_mean_absolute_error: 107425.5469\n",
            "Epoch 15/50\n",
            "95/95 [==============================] - 0s 3ms/step - loss: 29232912384.0000 - mean_absolute_error: 103447.3516 - val_loss: 31123865600.0000 - val_mean_absolute_error: 104989.9609\n",
            "Epoch 16/50\n",
            "95/95 [==============================] - 0s 3ms/step - loss: 28327104512.0000 - mean_absolute_error: 101559.2344 - val_loss: 30620747776.0000 - val_mean_absolute_error: 104668.2109\n",
            "Epoch 17/50\n",
            "95/95 [==============================] - 0s 4ms/step - loss: 27690911744.0000 - mean_absolute_error: 99994.0469 - val_loss: 28931643392.0000 - val_mean_absolute_error: 99705.1172\n",
            "Epoch 18/50\n",
            "95/95 [==============================] - 1s 5ms/step - loss: 27028822016.0000 - mean_absolute_error: 98065.3438 - val_loss: 28560277504.0000 - val_mean_absolute_error: 100738.4609\n",
            "Epoch 19/50\n",
            "95/95 [==============================] - 0s 3ms/step - loss: 26656851968.0000 - mean_absolute_error: 97319.8828 - val_loss: 27985956864.0000 - val_mean_absolute_error: 99434.7344\n",
            "Epoch 20/50\n",
            "95/95 [==============================] - 0s 3ms/step - loss: 26229504000.0000 - mean_absolute_error: 97074.7422 - val_loss: 27684427776.0000 - val_mean_absolute_error: 96716.1016\n",
            "Epoch 21/50\n",
            "95/95 [==============================] - 0s 3ms/step - loss: 26035937280.0000 - mean_absolute_error: 95755.7578 - val_loss: 27125755904.0000 - val_mean_absolute_error: 97129.9297\n",
            "Epoch 22/50\n",
            "95/95 [==============================] - 0s 3ms/step - loss: 25714935808.0000 - mean_absolute_error: 95406.7969 - val_loss: 26966632448.0000 - val_mean_absolute_error: 97662.7344\n",
            "Epoch 23/50\n",
            "95/95 [==============================] - 0s 4ms/step - loss: 25681305600.0000 - mean_absolute_error: 95370.7266 - val_loss: 26571788288.0000 - val_mean_absolute_error: 96502.2734\n",
            "Epoch 24/50\n",
            "95/95 [==============================] - 0s 4ms/step - loss: 25298941952.0000 - mean_absolute_error: 94553.3906 - val_loss: 26994972672.0000 - val_mean_absolute_error: 99440.9922\n",
            "Epoch 25/50\n",
            "95/95 [==============================] - 0s 5ms/step - loss: 24973877248.0000 - mean_absolute_error: 93763.3672 - val_loss: 26143825920.0000 - val_mean_absolute_error: 95374.7969\n",
            "Epoch 26/50\n",
            "95/95 [==============================] - 0s 5ms/step - loss: 25198450688.0000 - mean_absolute_error: 93716.5156 - val_loss: 26949894144.0000 - val_mean_absolute_error: 101078.3906\n",
            "Epoch 27/50\n",
            "95/95 [==============================] - 0s 5ms/step - loss: 25153685504.0000 - mean_absolute_error: 94746.6719 - val_loss: 25613289472.0000 - val_mean_absolute_error: 94758.9062\n",
            "Epoch 28/50\n",
            "95/95 [==============================] - 0s 4ms/step - loss: 24737947648.0000 - mean_absolute_error: 93081.8047 - val_loss: 25318166528.0000 - val_mean_absolute_error: 94815.4219\n",
            "Epoch 29/50\n",
            "95/95 [==============================] - 0s 3ms/step - loss: 24635244544.0000 - mean_absolute_error: 93684.3047 - val_loss: 25143732224.0000 - val_mean_absolute_error: 93654.6484\n",
            "Epoch 30/50\n",
            "95/95 [==============================] - 0s 3ms/step - loss: 24374585344.0000 - mean_absolute_error: 92247.1172 - val_loss: 25122037760.0000 - val_mean_absolute_error: 93257.3359\n",
            "Epoch 31/50\n",
            "95/95 [==============================] - 0s 3ms/step - loss: 24111843328.0000 - mean_absolute_error: 92147.1953 - val_loss: 24968462336.0000 - val_mean_absolute_error: 95142.6328\n",
            "Epoch 32/50\n",
            "95/95 [==============================] - 0s 3ms/step - loss: 24276672512.0000 - mean_absolute_error: 92781.4219 - val_loss: 24878886912.0000 - val_mean_absolute_error: 93183.6016\n",
            "Epoch 33/50\n",
            "95/95 [==============================] - 0s 3ms/step - loss: 24117297152.0000 - mean_absolute_error: 91889.7422 - val_loss: 24884531200.0000 - val_mean_absolute_error: 96745.3594\n",
            "Epoch 34/50\n",
            "95/95 [==============================] - 0s 3ms/step - loss: 23914764288.0000 - mean_absolute_error: 91847.9688 - val_loss: 24237760512.0000 - val_mean_absolute_error: 93153.7344\n",
            "Epoch 35/50\n",
            "95/95 [==============================] - 0s 3ms/step - loss: 23769962496.0000 - mean_absolute_error: 91495.6875 - val_loss: 24346380288.0000 - val_mean_absolute_error: 91996.3906\n",
            "Epoch 36/50\n",
            "95/95 [==============================] - 0s 3ms/step - loss: 23709786112.0000 - mean_absolute_error: 91932.3359 - val_loss: 24268326912.0000 - val_mean_absolute_error: 92550.2578\n",
            "Epoch 37/50\n",
            "95/95 [==============================] - 0s 3ms/step - loss: 23585699840.0000 - mean_absolute_error: 91115.5859 - val_loss: 23939960832.0000 - val_mean_absolute_error: 94013.3359\n",
            "Epoch 38/50\n",
            "95/95 [==============================] - 0s 3ms/step - loss: 23435931648.0000 - mean_absolute_error: 91061.0391 - val_loss: 23831685120.0000 - val_mean_absolute_error: 93612.6484\n",
            "Epoch 39/50\n",
            "95/95 [==============================] - 0s 3ms/step - loss: 23351398400.0000 - mean_absolute_error: 90744.4688 - val_loss: 23946520576.0000 - val_mean_absolute_error: 92885.0469\n",
            "Epoch 40/50\n",
            "95/95 [==============================] - 0s 3ms/step - loss: 23323533312.0000 - mean_absolute_error: 90687.5312 - val_loss: 24017041408.0000 - val_mean_absolute_error: 95401.1875\n",
            "Epoch 41/50\n",
            "95/95 [==============================] - 0s 3ms/step - loss: 23308697600.0000 - mean_absolute_error: 90517.5234 - val_loss: 23625089024.0000 - val_mean_absolute_error: 92393.1250\n",
            "Epoch 42/50\n",
            "95/95 [==============================] - 0s 3ms/step - loss: 23290437632.0000 - mean_absolute_error: 90728.6875 - val_loss: 23810459648.0000 - val_mean_absolute_error: 94382.8906\n",
            "Epoch 43/50\n",
            "95/95 [==============================] - 0s 3ms/step - loss: 23169173504.0000 - mean_absolute_error: 90429.7422 - val_loss: 23491004416.0000 - val_mean_absolute_error: 91518.8438\n",
            "Epoch 44/50\n",
            "95/95 [==============================] - 0s 3ms/step - loss: 22946387968.0000 - mean_absolute_error: 90181.3047 - val_loss: 23270719488.0000 - val_mean_absolute_error: 92098.2500\n",
            "Epoch 45/50\n",
            "95/95 [==============================] - 0s 3ms/step - loss: 22869929984.0000 - mean_absolute_error: 89886.2188 - val_loss: 23204632576.0000 - val_mean_absolute_error: 91225.4141\n",
            "Epoch 46/50\n",
            "95/95 [==============================] - 0s 3ms/step - loss: 22777540608.0000 - mean_absolute_error: 89831.6641 - val_loss: 23351558144.0000 - val_mean_absolute_error: 92389.5234\n",
            "Epoch 47/50\n",
            "95/95 [==============================] - 0s 3ms/step - loss: 22645264384.0000 - mean_absolute_error: 89561.9766 - val_loss: 23324698624.0000 - val_mean_absolute_error: 93320.9609\n",
            "Epoch 48/50\n",
            "95/95 [==============================] - 0s 2ms/step - loss: 22473400320.0000 - mean_absolute_error: 89386.5859 - val_loss: 23154126848.0000 - val_mean_absolute_error: 92433.3672\n",
            "Epoch 49/50\n",
            "95/95 [==============================] - 0s 3ms/step - loss: 22440101888.0000 - mean_absolute_error: 89163.3828 - val_loss: 23221624832.0000 - val_mean_absolute_error: 92421.7188\n",
            "Epoch 50/50\n",
            "95/95 [==============================] - 0s 3ms/step - loss: 22578870272.0000 - mean_absolute_error: 89700.8906 - val_loss: 22953195520.0000 - val_mean_absolute_error: 91313.4375\n"
          ]
        }
      ]
    },
    {
      "cell_type": "markdown",
      "source": [
        "**MODEL 2**\n",
        "\n",
        "Default parameters that have been defined :\n",
        "- Activation function : 'relu'\n",
        "- Number of hidden layers : 4\n",
        "- Number of neuron for each layer : 15\n",
        "- Optimizer : Adam\n",
        "- Learning rate : 0.01\n",
        "- Loss function : 'mean_squared_error'\n",
        "- Batch size : 128\n",
        "- epochs : 50\n"
      ],
      "metadata": {
        "id": "dRkimJhfGN_K"
      }
    },
    {
      "cell_type": "code",
      "source": [
        "# create model structure using sequential (plain stack of layers)\n",
        "# model without tuning hyperparamter\n",
        "model2 = Sequential()\n",
        "model2.add(Dense(15, input_dim=51, activation='relu'))\n",
        "model2.add(Dense(15,activation='relu'))\n",
        "model2.add(Dense(15,activation='relu'))\n",
        "model2.add(Dense(15,activation='relu'))\n",
        "model2.add(Dense(1))\n",
        "# use means square error as loos function\n",
        "opt2= Adam(learning_rate=0.01)\n",
        "model2.compile(optimizer=opt2,loss='mean_squared_error', metrics = ['mean_absolute_error'] )"
      ],
      "metadata": {
        "id": "7uI1a_qvLpzR"
      },
      "execution_count": 48,
      "outputs": []
    },
    {
      "cell_type": "code",
      "source": [
        "# model structure summary\n",
        "model2.summary()"
      ],
      "metadata": {
        "colab": {
          "base_uri": "https://localhost:8080/"
        },
        "id": "kLEDTB0RMptu",
        "outputId": "5f85ba09-7ccc-4a19-e330-f946a54848f3"
      },
      "execution_count": 49,
      "outputs": [
        {
          "output_type": "stream",
          "name": "stdout",
          "text": [
            "Model: \"sequential_38\"\n",
            "_________________________________________________________________\n",
            " Layer (type)                Output Shape              Param #   \n",
            "=================================================================\n",
            " dense_190 (Dense)           (None, 15)                780       \n",
            "                                                                 \n",
            " dense_191 (Dense)           (None, 15)                240       \n",
            "                                                                 \n",
            " dense_192 (Dense)           (None, 15)                240       \n",
            "                                                                 \n",
            " dense_193 (Dense)           (None, 15)                240       \n",
            "                                                                 \n",
            " dense_194 (Dense)           (None, 1)                 16        \n",
            "                                                                 \n",
            "=================================================================\n",
            "Total params: 1,516\n",
            "Trainable params: 1,516\n",
            "Non-trainable params: 0\n",
            "_________________________________________________________________\n"
          ]
        }
      ]
    },
    {
      "cell_type": "code",
      "source": [
        "# Fit the model into train dataset and split of validate 0.2\n",
        "result2 = model2.fit(x=xTrainScaled,y=yTrain, validation_split= 0.2, batch_size=128,epochs = 50 )"
      ],
      "metadata": {
        "colab": {
          "base_uri": "https://localhost:8080/"
        },
        "id": "cInK4iwXMryO",
        "outputId": "b01ac55c-d3bf-4e66-fb93-65d513719f56"
      },
      "execution_count": 50,
      "outputs": [
        {
          "output_type": "stream",
          "name": "stdout",
          "text": [
            "Epoch 1/50\n",
            "95/95 [==============================] - 1s 4ms/step - loss: 365433683968.0000 - mean_absolute_error: 477683.4688 - val_loss: 133109424128.0000 - val_mean_absolute_error: 201753.1875\n",
            "Epoch 2/50\n",
            "95/95 [==============================] - 0s 3ms/step - loss: 98397700096.0000 - mean_absolute_error: 200309.2031 - val_loss: 105304399872.0000 - val_mean_absolute_error: 194678.3750\n",
            "Epoch 3/50\n",
            "95/95 [==============================] - 0s 3ms/step - loss: 77018685440.0000 - mean_absolute_error: 170098.3438 - val_loss: 81307426816.0000 - val_mean_absolute_error: 162679.0781\n",
            "Epoch 4/50\n",
            "95/95 [==============================] - 0s 3ms/step - loss: 57567821824.0000 - mean_absolute_error: 138792.3594 - val_loss: 61999022080.0000 - val_mean_absolute_error: 139650.8281\n",
            "Epoch 5/50\n",
            "95/95 [==============================] - 0s 3ms/step - loss: 47652855808.0000 - mean_absolute_error: 128023.6016 - val_loss: 53300461568.0000 - val_mean_absolute_error: 127051.7188\n",
            "Epoch 6/50\n",
            "95/95 [==============================] - 0s 3ms/step - loss: 43016175616.0000 - mean_absolute_error: 122757.7734 - val_loss: 48700088320.0000 - val_mean_absolute_error: 119270.5156\n",
            "Epoch 7/50\n",
            "95/95 [==============================] - 0s 3ms/step - loss: 39510491136.0000 - mean_absolute_error: 116741.1719 - val_loss: 43468652544.0000 - val_mean_absolute_error: 116493.2812\n",
            "Epoch 8/50\n",
            "95/95 [==============================] - 0s 3ms/step - loss: 36836638720.0000 - mean_absolute_error: 114246.7188 - val_loss: 40112685056.0000 - val_mean_absolute_error: 113208.4375\n",
            "Epoch 9/50\n",
            "95/95 [==============================] - 0s 3ms/step - loss: 34339923968.0000 - mean_absolute_error: 110887.5000 - val_loss: 37325410304.0000 - val_mean_absolute_error: 110426.7891\n",
            "Epoch 10/50\n",
            "95/95 [==============================] - 0s 3ms/step - loss: 32805810176.0000 - mean_absolute_error: 109849.6875 - val_loss: 34944458752.0000 - val_mean_absolute_error: 108475.2344\n",
            "Epoch 11/50\n",
            "95/95 [==============================] - 0s 3ms/step - loss: 30915713024.0000 - mean_absolute_error: 106239.1094 - val_loss: 33101963264.0000 - val_mean_absolute_error: 106887.7812\n",
            "Epoch 12/50\n",
            "95/95 [==============================] - 0s 3ms/step - loss: 29420627968.0000 - mean_absolute_error: 102708.6328 - val_loss: 31031496704.0000 - val_mean_absolute_error: 103746.0625\n",
            "Epoch 13/50\n",
            "95/95 [==============================] - 0s 3ms/step - loss: 28208537600.0000 - mean_absolute_error: 100281.7344 - val_loss: 29651423232.0000 - val_mean_absolute_error: 100175.1641\n",
            "Epoch 14/50\n",
            "95/95 [==============================] - 0s 3ms/step - loss: 27813666816.0000 - mean_absolute_error: 99786.5078 - val_loss: 28668131328.0000 - val_mean_absolute_error: 99303.7422\n",
            "Epoch 15/50\n",
            "95/95 [==============================] - 0s 3ms/step - loss: 27221000192.0000 - mean_absolute_error: 98132.2500 - val_loss: 28340785152.0000 - val_mean_absolute_error: 99972.9375\n",
            "Epoch 16/50\n",
            "95/95 [==============================] - 0s 2ms/step - loss: 26494824448.0000 - mean_absolute_error: 96625.9375 - val_loss: 27694886912.0000 - val_mean_absolute_error: 97693.4531\n",
            "Epoch 17/50\n",
            "95/95 [==============================] - 0s 3ms/step - loss: 26108971008.0000 - mean_absolute_error: 95842.8750 - val_loss: 27249854464.0000 - val_mean_absolute_error: 98128.0625\n",
            "Epoch 18/50\n",
            "95/95 [==============================] - 0s 3ms/step - loss: 25846779904.0000 - mean_absolute_error: 95194.5391 - val_loss: 26737707008.0000 - val_mean_absolute_error: 97093.5312\n",
            "Epoch 19/50\n",
            "95/95 [==============================] - 0s 3ms/step - loss: 25354434560.0000 - mean_absolute_error: 94138.2422 - val_loss: 26502936576.0000 - val_mean_absolute_error: 97293.6406\n",
            "Epoch 20/50\n",
            "95/95 [==============================] - 0s 3ms/step - loss: 25263280128.0000 - mean_absolute_error: 93890.5234 - val_loss: 25887764480.0000 - val_mean_absolute_error: 94338.8438\n",
            "Epoch 21/50\n",
            "95/95 [==============================] - 0s 3ms/step - loss: 24853698560.0000 - mean_absolute_error: 92626.5469 - val_loss: 26308880384.0000 - val_mean_absolute_error: 98169.5000\n",
            "Epoch 22/50\n",
            "95/95 [==============================] - 0s 2ms/step - loss: 24727029760.0000 - mean_absolute_error: 92596.0156 - val_loss: 25083224064.0000 - val_mean_absolute_error: 93338.2188\n",
            "Epoch 23/50\n",
            "95/95 [==============================] - 0s 3ms/step - loss: 24417564672.0000 - mean_absolute_error: 91706.4609 - val_loss: 25876109312.0000 - val_mean_absolute_error: 99852.0859\n",
            "Epoch 24/50\n",
            "95/95 [==============================] - 0s 3ms/step - loss: 24348530688.0000 - mean_absolute_error: 91673.1406 - val_loss: 24474662912.0000 - val_mean_absolute_error: 93419.6875\n",
            "Epoch 25/50\n",
            "95/95 [==============================] - 0s 3ms/step - loss: 24279762944.0000 - mean_absolute_error: 91454.4219 - val_loss: 24987889664.0000 - val_mean_absolute_error: 97001.3828\n",
            "Epoch 26/50\n",
            "95/95 [==============================] - 0s 3ms/step - loss: 23997589504.0000 - mean_absolute_error: 91069.0312 - val_loss: 24622876672.0000 - val_mean_absolute_error: 94649.9219\n",
            "Epoch 27/50\n",
            "95/95 [==============================] - 0s 2ms/step - loss: 23870533632.0000 - mean_absolute_error: 90582.1406 - val_loss: 25581334528.0000 - val_mean_absolute_error: 98368.1250\n",
            "Epoch 28/50\n",
            "95/95 [==============================] - 0s 3ms/step - loss: 23757475840.0000 - mean_absolute_error: 90404.9062 - val_loss: 23847041024.0000 - val_mean_absolute_error: 92425.2656\n",
            "Epoch 29/50\n",
            "95/95 [==============================] - 0s 3ms/step - loss: 23605729280.0000 - mean_absolute_error: 90203.7344 - val_loss: 24073805824.0000 - val_mean_absolute_error: 93889.8594\n",
            "Epoch 30/50\n",
            "95/95 [==============================] - 0s 3ms/step - loss: 23644659712.0000 - mean_absolute_error: 90189.7109 - val_loss: 23492737024.0000 - val_mean_absolute_error: 91088.3203\n",
            "Epoch 31/50\n",
            "95/95 [==============================] - 0s 2ms/step - loss: 23510865920.0000 - mean_absolute_error: 90175.4062 - val_loss: 23417575424.0000 - val_mean_absolute_error: 91047.5938\n",
            "Epoch 32/50\n",
            "95/95 [==============================] - 0s 3ms/step - loss: 23351123968.0000 - mean_absolute_error: 89916.6875 - val_loss: 23359758336.0000 - val_mean_absolute_error: 91026.4922\n",
            "Epoch 33/50\n",
            "95/95 [==============================] - 0s 3ms/step - loss: 23166392320.0000 - mean_absolute_error: 89389.6484 - val_loss: 24364148736.0000 - val_mean_absolute_error: 92063.2891\n",
            "Epoch 34/50\n",
            "95/95 [==============================] - 0s 2ms/step - loss: 23152461824.0000 - mean_absolute_error: 89565.5469 - val_loss: 23251015680.0000 - val_mean_absolute_error: 90085.8516\n",
            "Epoch 35/50\n",
            "95/95 [==============================] - 0s 3ms/step - loss: 22981158912.0000 - mean_absolute_error: 89164.3906 - val_loss: 24192823296.0000 - val_mean_absolute_error: 96643.5859\n",
            "Epoch 36/50\n",
            "95/95 [==============================] - 0s 3ms/step - loss: 22918553600.0000 - mean_absolute_error: 89188.6328 - val_loss: 23286083584.0000 - val_mean_absolute_error: 91564.9219\n",
            "Epoch 37/50\n",
            "95/95 [==============================] - 0s 3ms/step - loss: 22776827904.0000 - mean_absolute_error: 88918.4141 - val_loss: 22980149248.0000 - val_mean_absolute_error: 89979.9609\n",
            "Epoch 38/50\n",
            "95/95 [==============================] - 0s 3ms/step - loss: 22660573184.0000 - mean_absolute_error: 88356.8438 - val_loss: 22925742080.0000 - val_mean_absolute_error: 92676.5234\n",
            "Epoch 39/50\n",
            "95/95 [==============================] - 0s 3ms/step - loss: 22577655808.0000 - mean_absolute_error: 88560.6875 - val_loss: 22783727616.0000 - val_mean_absolute_error: 90710.4531\n",
            "Epoch 40/50\n",
            "95/95 [==============================] - 0s 3ms/step - loss: 22551377920.0000 - mean_absolute_error: 88664.5312 - val_loss: 22698547200.0000 - val_mean_absolute_error: 90284.0000\n",
            "Epoch 41/50\n",
            "95/95 [==============================] - 0s 3ms/step - loss: 22443939840.0000 - mean_absolute_error: 88405.8047 - val_loss: 22620182528.0000 - val_mean_absolute_error: 90658.1328\n",
            "Epoch 42/50\n",
            "95/95 [==============================] - 0s 3ms/step - loss: 22458634240.0000 - mean_absolute_error: 88780.0078 - val_loss: 23527809024.0000 - val_mean_absolute_error: 95628.0625\n",
            "Epoch 43/50\n",
            "95/95 [==============================] - 0s 3ms/step - loss: 22236856320.0000 - mean_absolute_error: 88550.6484 - val_loss: 22759069696.0000 - val_mean_absolute_error: 92997.0234\n",
            "Epoch 44/50\n",
            "95/95 [==============================] - 0s 3ms/step - loss: 21940406272.0000 - mean_absolute_error: 87823.0156 - val_loss: 22521509888.0000 - val_mean_absolute_error: 90117.2891\n",
            "Epoch 45/50\n",
            "95/95 [==============================] - 0s 3ms/step - loss: 21913882624.0000 - mean_absolute_error: 87871.9453 - val_loss: 22746505216.0000 - val_mean_absolute_error: 92943.6328\n",
            "Epoch 46/50\n",
            "95/95 [==============================] - 0s 3ms/step - loss: 21901764608.0000 - mean_absolute_error: 88205.8203 - val_loss: 22272055296.0000 - val_mean_absolute_error: 89218.2109\n",
            "Epoch 47/50\n",
            "95/95 [==============================] - 0s 3ms/step - loss: 22196658176.0000 - mean_absolute_error: 88787.2031 - val_loss: 22235820032.0000 - val_mean_absolute_error: 90360.4062\n",
            "Epoch 48/50\n",
            "95/95 [==============================] - 0s 3ms/step - loss: 21663088640.0000 - mean_absolute_error: 87150.3672 - val_loss: 22748762112.0000 - val_mean_absolute_error: 94259.6562\n",
            "Epoch 49/50\n",
            "95/95 [==============================] - 0s 2ms/step - loss: 21554216960.0000 - mean_absolute_error: 87563.4062 - val_loss: 22494900224.0000 - val_mean_absolute_error: 92551.3594\n",
            "Epoch 50/50\n",
            "95/95 [==============================] - 0s 3ms/step - loss: 21511870464.0000 - mean_absolute_error: 87514.1250 - val_loss: 21782163456.0000 - val_mean_absolute_error: 88906.2500\n"
          ]
        }
      ]
    },
    {
      "cell_type": "markdown",
      "source": [
        "**MODEL 3**\n",
        "\n",
        "Default parameters that have been defined :\n",
        "- Activation function : 'selu'\n",
        "- Number of hidden layers : 4\n",
        "- Number of neuron for each layer : 17\n",
        "- Optimizer : Adam\n",
        "- Learning rate : 0.01\n",
        "- Loss function : 'mean_squared_error'\n",
        "- Batch size : 128\n",
        "- epochs : 50\n"
      ],
      "metadata": {
        "id": "bTpZMgFANraw"
      }
    },
    {
      "cell_type": "code",
      "source": [
        "# create model structure using sequential (plain stack of layers)\n",
        "# model without tuning hyperparamter\n",
        "model3 = Sequential()\n",
        "model3.add(Dense(17, input_dim=51, activation='relu'))\n",
        "model3.add(Dense(17,activation='selu'))\n",
        "model3.add(Dense(17,activation='selu'))\n",
        "model3.add(Dense(17,activation='selu'))\n",
        "model3.add(Dense(1))\n",
        "# use means square error as loss function\n",
        "opt3= Adam(learning_rate=0.386)\n",
        "model3.compile(optimizer=opt3,loss='mean_squared_error', metrics = ['mean_absolute_error'] )"
      ],
      "metadata": {
        "id": "Tsf6eLhkOX9G"
      },
      "execution_count": 51,
      "outputs": []
    },
    {
      "cell_type": "code",
      "source": [
        "# model structure summary\n",
        "model3.summary()"
      ],
      "metadata": {
        "colab": {
          "base_uri": "https://localhost:8080/"
        },
        "id": "IWrDNtN4O49J",
        "outputId": "276abcd8-d36e-444d-d061-ec944cb20926"
      },
      "execution_count": 52,
      "outputs": [
        {
          "output_type": "stream",
          "name": "stdout",
          "text": [
            "Model: \"sequential_39\"\n",
            "_________________________________________________________________\n",
            " Layer (type)                Output Shape              Param #   \n",
            "=================================================================\n",
            " dense_195 (Dense)           (None, 17)                884       \n",
            "                                                                 \n",
            " dense_196 (Dense)           (None, 17)                306       \n",
            "                                                                 \n",
            " dense_197 (Dense)           (None, 17)                306       \n",
            "                                                                 \n",
            " dense_198 (Dense)           (None, 17)                306       \n",
            "                                                                 \n",
            " dense_199 (Dense)           (None, 1)                 18        \n",
            "                                                                 \n",
            "=================================================================\n",
            "Total params: 1,820\n",
            "Trainable params: 1,820\n",
            "Non-trainable params: 0\n",
            "_________________________________________________________________\n"
          ]
        }
      ]
    },
    {
      "cell_type": "code",
      "source": [
        "# Fit the model into train dataset and split of validate 0.2\n",
        "result3 = model3.fit(x=xTrainScaled,y=yTrain, validation_split= 0.2, batch_size=128,epochs = 50 )"
      ],
      "metadata": {
        "colab": {
          "base_uri": "https://localhost:8080/"
        },
        "id": "ET2XjzvvO71_",
        "outputId": "6d2c956b-0f5f-42ed-84b4-5392562a461c"
      },
      "execution_count": 53,
      "outputs": [
        {
          "output_type": "stream",
          "name": "stdout",
          "text": [
            "Epoch 1/50\n",
            "95/95 [==============================] - 1s 4ms/step - loss: 99984515072.0000 - mean_absolute_error: 188509.1094 - val_loss: 47219052544.0000 - val_mean_absolute_error: 140595.7188\n",
            "Epoch 2/50\n",
            "95/95 [==============================] - 0s 3ms/step - loss: 35247685632.0000 - mean_absolute_error: 116450.6328 - val_loss: 30002982912.0000 - val_mean_absolute_error: 106598.1328\n",
            "Epoch 3/50\n",
            "95/95 [==============================] - 0s 3ms/step - loss: 39904186368.0000 - mean_absolute_error: 126203.0156 - val_loss: 42887544832.0000 - val_mean_absolute_error: 122060.3906\n",
            "Epoch 4/50\n",
            "95/95 [==============================] - 0s 3ms/step - loss: 29536002048.0000 - mean_absolute_error: 105432.2109 - val_loss: 26359760896.0000 - val_mean_absolute_error: 102837.8984\n",
            "Epoch 5/50\n",
            "95/95 [==============================] - 0s 3ms/step - loss: 32883556352.0000 - mean_absolute_error: 114387.9531 - val_loss: 36184858624.0000 - val_mean_absolute_error: 136156.2500\n",
            "Epoch 6/50\n",
            "95/95 [==============================] - 0s 3ms/step - loss: 28938117120.0000 - mean_absolute_error: 105487.8438 - val_loss: 25224071168.0000 - val_mean_absolute_error: 96550.9062\n",
            "Epoch 7/50\n",
            "95/95 [==============================] - 0s 3ms/step - loss: 27313104896.0000 - mean_absolute_error: 101678.5547 - val_loss: 23714392064.0000 - val_mean_absolute_error: 94007.2031\n",
            "Epoch 8/50\n",
            "95/95 [==============================] - 0s 3ms/step - loss: 30010312704.0000 - mean_absolute_error: 108286.0312 - val_loss: 31210317824.0000 - val_mean_absolute_error: 124204.5859\n",
            "Epoch 9/50\n",
            "95/95 [==============================] - 0s 3ms/step - loss: 27157252096.0000 - mean_absolute_error: 101806.8594 - val_loss: 29168066560.0000 - val_mean_absolute_error: 114517.2656\n",
            "Epoch 10/50\n",
            "95/95 [==============================] - 0s 3ms/step - loss: 25963552768.0000 - mean_absolute_error: 98760.9922 - val_loss: 23072829440.0000 - val_mean_absolute_error: 95541.0781\n",
            "Epoch 11/50\n",
            "95/95 [==============================] - 0s 3ms/step - loss: 26854901760.0000 - mean_absolute_error: 102808.3984 - val_loss: 23219982336.0000 - val_mean_absolute_error: 91987.3828\n",
            "Epoch 12/50\n",
            "95/95 [==============================] - 0s 3ms/step - loss: 31136739328.0000 - mean_absolute_error: 111192.8516 - val_loss: 24922654720.0000 - val_mean_absolute_error: 98850.5156\n",
            "Epoch 13/50\n",
            "95/95 [==============================] - 0s 3ms/step - loss: 25370576896.0000 - mean_absolute_error: 97526.9375 - val_loss: 25034360832.0000 - val_mean_absolute_error: 95955.4922\n",
            "Epoch 14/50\n",
            "95/95 [==============================] - 0s 3ms/step - loss: 24813850624.0000 - mean_absolute_error: 97178.8594 - val_loss: 22847846400.0000 - val_mean_absolute_error: 94947.2266\n",
            "Epoch 15/50\n",
            "95/95 [==============================] - 0s 3ms/step - loss: 23834570752.0000 - mean_absolute_error: 97105.5078 - val_loss: 22503948288.0000 - val_mean_absolute_error: 90829.0938\n",
            "Epoch 16/50\n",
            "95/95 [==============================] - 0s 3ms/step - loss: 23094323200.0000 - mean_absolute_error: 93788.0078 - val_loss: 21248169984.0000 - val_mean_absolute_error: 90800.4844\n",
            "Epoch 17/50\n",
            "95/95 [==============================] - 0s 2ms/step - loss: 24339851264.0000 - mean_absolute_error: 97874.9453 - val_loss: 23348340736.0000 - val_mean_absolute_error: 98636.6172\n",
            "Epoch 18/50\n",
            "95/95 [==============================] - 0s 2ms/step - loss: 23795593216.0000 - mean_absolute_error: 95532.3359 - val_loss: 26467899392.0000 - val_mean_absolute_error: 97495.7500\n",
            "Epoch 19/50\n",
            "95/95 [==============================] - 0s 3ms/step - loss: 25204441088.0000 - mean_absolute_error: 100046.9062 - val_loss: 22460903424.0000 - val_mean_absolute_error: 91010.8047\n",
            "Epoch 20/50\n",
            "95/95 [==============================] - 0s 3ms/step - loss: 24151672832.0000 - mean_absolute_error: 96169.1016 - val_loss: 21569708032.0000 - val_mean_absolute_error: 90014.9219\n",
            "Epoch 21/50\n",
            "95/95 [==============================] - 0s 2ms/step - loss: 22879545344.0000 - mean_absolute_error: 94533.8984 - val_loss: 26413561856.0000 - val_mean_absolute_error: 109605.4141\n",
            "Epoch 22/50\n",
            "95/95 [==============================] - 0s 3ms/step - loss: 22528083968.0000 - mean_absolute_error: 93735.2812 - val_loss: 22395576320.0000 - val_mean_absolute_error: 95928.7266\n",
            "Epoch 23/50\n",
            "95/95 [==============================] - 0s 3ms/step - loss: 22266949632.0000 - mean_absolute_error: 93134.9141 - val_loss: 22234900480.0000 - val_mean_absolute_error: 91573.9531\n",
            "Epoch 24/50\n",
            "95/95 [==============================] - 0s 3ms/step - loss: 24188106752.0000 - mean_absolute_error: 97827.2578 - val_loss: 22490009600.0000 - val_mean_absolute_error: 90813.5859\n",
            "Epoch 25/50\n",
            "95/95 [==============================] - 0s 3ms/step - loss: 21455085568.0000 - mean_absolute_error: 92369.2734 - val_loss: 21836650496.0000 - val_mean_absolute_error: 94470.5859\n",
            "Epoch 26/50\n",
            "95/95 [==============================] - 0s 3ms/step - loss: 22448416768.0000 - mean_absolute_error: 93663.1172 - val_loss: 23786422272.0000 - val_mean_absolute_error: 91981.6641\n",
            "Epoch 27/50\n",
            "95/95 [==============================] - 0s 3ms/step - loss: 22639503360.0000 - mean_absolute_error: 93190.4844 - val_loss: 21542637568.0000 - val_mean_absolute_error: 90128.5625\n",
            "Epoch 28/50\n",
            "95/95 [==============================] - 0s 3ms/step - loss: 21026007040.0000 - mean_absolute_error: 90614.5781 - val_loss: 23438077952.0000 - val_mean_absolute_error: 96373.9609\n",
            "Epoch 29/50\n",
            "95/95 [==============================] - 0s 3ms/step - loss: 25025853440.0000 - mean_absolute_error: 100171.1484 - val_loss: 23954675712.0000 - val_mean_absolute_error: 98126.2656\n",
            "Epoch 30/50\n",
            "95/95 [==============================] - 0s 3ms/step - loss: 26363142144.0000 - mean_absolute_error: 102629.2500 - val_loss: 22271967232.0000 - val_mean_absolute_error: 91665.3672\n",
            "Epoch 31/50\n",
            "95/95 [==============================] - 0s 3ms/step - loss: 25266270208.0000 - mean_absolute_error: 98320.5234 - val_loss: 23133140992.0000 - val_mean_absolute_error: 96696.5859\n",
            "Epoch 32/50\n",
            "95/95 [==============================] - 0s 3ms/step - loss: 21576316928.0000 - mean_absolute_error: 91319.6953 - val_loss: 20493498368.0000 - val_mean_absolute_error: 92396.7500\n",
            "Epoch 33/50\n",
            "95/95 [==============================] - 0s 3ms/step - loss: 21374912512.0000 - mean_absolute_error: 90656.0547 - val_loss: 21822124032.0000 - val_mean_absolute_error: 90386.9688\n",
            "Epoch 34/50\n",
            "95/95 [==============================] - 0s 3ms/step - loss: 22109911040.0000 - mean_absolute_error: 92951.1094 - val_loss: 21833957376.0000 - val_mean_absolute_error: 88774.6797\n",
            "Epoch 35/50\n",
            "95/95 [==============================] - 0s 3ms/step - loss: 20377884672.0000 - mean_absolute_error: 89513.5078 - val_loss: 24252125184.0000 - val_mean_absolute_error: 95722.3125\n",
            "Epoch 36/50\n",
            "95/95 [==============================] - 0s 3ms/step - loss: 21829984256.0000 - mean_absolute_error: 92261.8281 - val_loss: 21626040320.0000 - val_mean_absolute_error: 91579.9531\n",
            "Epoch 37/50\n",
            "95/95 [==============================] - 0s 3ms/step - loss: 23033225216.0000 - mean_absolute_error: 93909.0703 - val_loss: 20113786880.0000 - val_mean_absolute_error: 88318.4297\n",
            "Epoch 38/50\n",
            "95/95 [==============================] - 0s 2ms/step - loss: 22317811712.0000 - mean_absolute_error: 95446.7891 - val_loss: 23983671296.0000 - val_mean_absolute_error: 100314.6797\n",
            "Epoch 39/50\n",
            "95/95 [==============================] - 0s 3ms/step - loss: 22148628480.0000 - mean_absolute_error: 94251.6797 - val_loss: 25133334528.0000 - val_mean_absolute_error: 103275.1484\n",
            "Epoch 40/50\n",
            "95/95 [==============================] - 0s 3ms/step - loss: 20664639488.0000 - mean_absolute_error: 89646.5156 - val_loss: 23400736768.0000 - val_mean_absolute_error: 103909.2344\n",
            "Epoch 41/50\n",
            "95/95 [==============================] - 0s 3ms/step - loss: 20892424192.0000 - mean_absolute_error: 90633.6328 - val_loss: 21756878848.0000 - val_mean_absolute_error: 92770.0078\n",
            "Epoch 42/50\n",
            "95/95 [==============================] - 0s 3ms/step - loss: 21841612800.0000 - mean_absolute_error: 94125.3359 - val_loss: 26025646080.0000 - val_mean_absolute_error: 93274.2656\n",
            "Epoch 43/50\n",
            "95/95 [==============================] - 0s 3ms/step - loss: 19334885376.0000 - mean_absolute_error: 87020.7578 - val_loss: 22119264256.0000 - val_mean_absolute_error: 90594.4766\n",
            "Epoch 44/50\n",
            "95/95 [==============================] - 0s 3ms/step - loss: 21890422784.0000 - mean_absolute_error: 92319.9688 - val_loss: 23048286208.0000 - val_mean_absolute_error: 93808.6250\n",
            "Epoch 45/50\n",
            "95/95 [==============================] - 0s 3ms/step - loss: 19764197376.0000 - mean_absolute_error: 89130.7578 - val_loss: 21448007680.0000 - val_mean_absolute_error: 89309.4062\n",
            "Epoch 46/50\n",
            "95/95 [==============================] - 0s 3ms/step - loss: 18858786816.0000 - mean_absolute_error: 86424.2656 - val_loss: 20116473856.0000 - val_mean_absolute_error: 89816.0547\n",
            "Epoch 47/50\n",
            "95/95 [==============================] - 0s 3ms/step - loss: 21449826304.0000 - mean_absolute_error: 92556.4609 - val_loss: 20893851648.0000 - val_mean_absolute_error: 86376.6172\n",
            "Epoch 48/50\n",
            "95/95 [==============================] - 0s 3ms/step - loss: 19612686336.0000 - mean_absolute_error: 87676.8984 - val_loss: 28152629248.0000 - val_mean_absolute_error: 106003.4609\n",
            "Epoch 49/50\n",
            "95/95 [==============================] - 0s 3ms/step - loss: 19653998592.0000 - mean_absolute_error: 87749.8047 - val_loss: 20825507840.0000 - val_mean_absolute_error: 86882.8125\n",
            "Epoch 50/50\n",
            "95/95 [==============================] - 0s 3ms/step - loss: 18670487552.0000 - mean_absolute_error: 86143.8438 - val_loss: 25172408320.0000 - val_mean_absolute_error: 91152.2734\n"
          ]
        }
      ]
    },
    {
      "cell_type": "markdown",
      "source": [
        "**MODEL 4**\n",
        "\n",
        "Default parameters that have been defined :\n",
        "\n",
        "- Activation function : 'selu'\n",
        "- Number of hidden layers : 4\n",
        "- Number of neuron for each layer : 15\n",
        "- Optimizer : Adam\n",
        "- Learning rate : 0.01\n",
        "- Loss function : 'mean_squared_error'\n",
        "- Batch size : 128\n",
        "- epochs : 50"
      ],
      "metadata": {
        "id": "2WK6sX4CUI_E"
      }
    },
    {
      "cell_type": "code",
      "source": [
        "# create model structure using sequential (plain stack of layers)\n",
        "# model without tuning hyperparamter\n",
        "model4 = Sequential()\n",
        "model4.add(Dense(15, input_dim=51, activation='relu'))\n",
        "model4.add(Dense(15,activation='selu'))\n",
        "model4.add(Dense(15,activation='selu'))\n",
        "model4.add(Dense(15,activation='selu'))\n",
        "model4.add(Dense(1))\n",
        "# use means square error as loss function\n",
        "opt4= Adam(learning_rate=0.01)\n",
        "model4.compile(optimizer=opt4,loss='mean_squared_error', metrics = ['mean_absolute_error'] )"
      ],
      "metadata": {
        "id": "tnuVPQQ_UP67"
      },
      "execution_count": 54,
      "outputs": []
    },
    {
      "cell_type": "code",
      "source": [
        "# model structure summary\n",
        "model4.summary()"
      ],
      "metadata": {
        "colab": {
          "base_uri": "https://localhost:8080/"
        },
        "id": "Jf1xYHRFUsMY",
        "outputId": "e8be7dca-cf3c-463a-dd4c-77caa075ccab"
      },
      "execution_count": 55,
      "outputs": [
        {
          "output_type": "stream",
          "name": "stdout",
          "text": [
            "Model: \"sequential_40\"\n",
            "_________________________________________________________________\n",
            " Layer (type)                Output Shape              Param #   \n",
            "=================================================================\n",
            " dense_200 (Dense)           (None, 15)                780       \n",
            "                                                                 \n",
            " dense_201 (Dense)           (None, 15)                240       \n",
            "                                                                 \n",
            " dense_202 (Dense)           (None, 15)                240       \n",
            "                                                                 \n",
            " dense_203 (Dense)           (None, 15)                240       \n",
            "                                                                 \n",
            " dense_204 (Dense)           (None, 1)                 16        \n",
            "                                                                 \n",
            "=================================================================\n",
            "Total params: 1,516\n",
            "Trainable params: 1,516\n",
            "Non-trainable params: 0\n",
            "_________________________________________________________________\n"
          ]
        }
      ]
    },
    {
      "cell_type": "code",
      "source": [
        "# Fit the model into train dataset and split of validate 0.2\n",
        "result4 = model4.fit(x=xTrainScaled,y=yTrain, validation_split= 0.2, batch_size=128,epochs = 50 )"
      ],
      "metadata": {
        "colab": {
          "base_uri": "https://localhost:8080/"
        },
        "id": "tKe5lePlU0Nh",
        "outputId": "23984585-afbf-4060-a24d-c9ea080f05dc"
      },
      "execution_count": 56,
      "outputs": [
        {
          "output_type": "stream",
          "name": "stdout",
          "text": [
            "Epoch 1/50\n",
            "95/95 [==============================] - 1s 4ms/step - loss: 406139437056.0000 - mean_absolute_error: 523756.3438 - val_loss: 332941754368.0000 - val_mean_absolute_error: 428581.5625\n",
            "Epoch 2/50\n",
            "95/95 [==============================] - 0s 3ms/step - loss: 130021810176.0000 - mean_absolute_error: 231793.9844 - val_loss: 115151093760.0000 - val_mean_absolute_error: 201052.1094\n",
            "Epoch 3/50\n",
            "95/95 [==============================] - 0s 3ms/step - loss: 88845770752.0000 - mean_absolute_error: 185684.4844 - val_loss: 98822406144.0000 - val_mean_absolute_error: 181992.4375\n",
            "Epoch 4/50\n",
            "95/95 [==============================] - 0s 3ms/step - loss: 74037772288.0000 - mean_absolute_error: 165464.9531 - val_loss: 80880549888.0000 - val_mean_absolute_error: 150608.3125\n",
            "Epoch 5/50\n",
            "95/95 [==============================] - 0s 3ms/step - loss: 59134042112.0000 - mean_absolute_error: 139986.6562 - val_loss: 64284598272.0000 - val_mean_absolute_error: 134311.6094\n",
            "Epoch 6/50\n",
            "95/95 [==============================] - 0s 3ms/step - loss: 49903255552.0000 - mean_absolute_error: 129960.9531 - val_loss: 56465289216.0000 - val_mean_absolute_error: 130051.5781\n",
            "Epoch 7/50\n",
            "95/95 [==============================] - 0s 3ms/step - loss: 45781397504.0000 - mean_absolute_error: 126388.5703 - val_loss: 52877516800.0000 - val_mean_absolute_error: 133142.7188\n",
            "Epoch 8/50\n",
            "95/95 [==============================] - 0s 3ms/step - loss: 43365257216.0000 - mean_absolute_error: 124961.7812 - val_loss: 49444790272.0000 - val_mean_absolute_error: 126446.5156\n",
            "Epoch 9/50\n",
            "95/95 [==============================] - 0s 3ms/step - loss: 41409880064.0000 - mean_absolute_error: 122114.3047 - val_loss: 47319339008.0000 - val_mean_absolute_error: 124711.4219\n",
            "Epoch 10/50\n",
            "95/95 [==============================] - 0s 3ms/step - loss: 39416963072.0000 - mean_absolute_error: 118842.2812 - val_loss: 44287377408.0000 - val_mean_absolute_error: 119001.7109\n",
            "Epoch 11/50\n",
            "95/95 [==============================] - 0s 3ms/step - loss: 37246271488.0000 - mean_absolute_error: 114808.4922 - val_loss: 41563889664.0000 - val_mean_absolute_error: 115183.5469\n",
            "Epoch 12/50\n",
            "95/95 [==============================] - 0s 3ms/step - loss: 35167551488.0000 - mean_absolute_error: 110967.4844 - val_loss: 38775676928.0000 - val_mean_absolute_error: 111285.3203\n",
            "Epoch 13/50\n",
            "95/95 [==============================] - 0s 2ms/step - loss: 33407797248.0000 - mean_absolute_error: 109058.9297 - val_loss: 36583051264.0000 - val_mean_absolute_error: 112598.7188\n",
            "Epoch 14/50\n",
            "95/95 [==============================] - 0s 3ms/step - loss: 32054528000.0000 - mean_absolute_error: 107906.4766 - val_loss: 34796810240.0000 - val_mean_absolute_error: 109707.7031\n",
            "Epoch 15/50\n",
            "95/95 [==============================] - 0s 3ms/step - loss: 30884241408.0000 - mean_absolute_error: 105981.4219 - val_loss: 33131968512.0000 - val_mean_absolute_error: 107203.7656\n",
            "Epoch 16/50\n",
            "95/95 [==============================] - 0s 3ms/step - loss: 29696901120.0000 - mean_absolute_error: 103502.7266 - val_loss: 31784656896.0000 - val_mean_absolute_error: 102456.1328\n",
            "Epoch 17/50\n",
            "95/95 [==============================] - 0s 3ms/step - loss: 28808472576.0000 - mean_absolute_error: 101746.8125 - val_loss: 31129864192.0000 - val_mean_absolute_error: 106834.6875\n",
            "Epoch 18/50\n",
            "95/95 [==============================] - 0s 3ms/step - loss: 28198656000.0000 - mean_absolute_error: 100794.8125 - val_loss: 29726150656.0000 - val_mean_absolute_error: 101131.5938\n",
            "Epoch 19/50\n",
            "95/95 [==============================] - 0s 3ms/step - loss: 27560716288.0000 - mean_absolute_error: 99623.3828 - val_loss: 29095399424.0000 - val_mean_absolute_error: 100682.7422\n",
            "Epoch 20/50\n",
            "95/95 [==============================] - 0s 3ms/step - loss: 27128678400.0000 - mean_absolute_error: 98335.7188 - val_loss: 28969922560.0000 - val_mean_absolute_error: 102865.1562\n",
            "Epoch 21/50\n",
            "95/95 [==============================] - 0s 3ms/step - loss: 26743244800.0000 - mean_absolute_error: 97686.1562 - val_loss: 28090800128.0000 - val_mean_absolute_error: 99439.0781\n",
            "Epoch 22/50\n",
            "95/95 [==============================] - 0s 3ms/step - loss: 26293417984.0000 - mean_absolute_error: 96531.0703 - val_loss: 27796477952.0000 - val_mean_absolute_error: 99407.8281\n",
            "Epoch 23/50\n",
            "95/95 [==============================] - 0s 3ms/step - loss: 25926584320.0000 - mean_absolute_error: 95363.3203 - val_loss: 26994421760.0000 - val_mean_absolute_error: 96502.2500\n",
            "Epoch 24/50\n",
            "95/95 [==============================] - 0s 3ms/step - loss: 25677281280.0000 - mean_absolute_error: 94787.7578 - val_loss: 26832603136.0000 - val_mean_absolute_error: 95905.0859\n",
            "Epoch 25/50\n",
            "95/95 [==============================] - 0s 3ms/step - loss: 25223442432.0000 - mean_absolute_error: 93789.6562 - val_loss: 26492407808.0000 - val_mean_absolute_error: 96715.8828\n",
            "Epoch 26/50\n",
            "95/95 [==============================] - 0s 3ms/step - loss: 25213100032.0000 - mean_absolute_error: 93737.1172 - val_loss: 26246901760.0000 - val_mean_absolute_error: 96573.0625\n",
            "Epoch 27/50\n",
            "95/95 [==============================] - 0s 2ms/step - loss: 25116686336.0000 - mean_absolute_error: 93851.3906 - val_loss: 26003150848.0000 - val_mean_absolute_error: 94562.1328\n",
            "Epoch 28/50\n",
            "95/95 [==============================] - 0s 3ms/step - loss: 24788203520.0000 - mean_absolute_error: 93026.5859 - val_loss: 25958703104.0000 - val_mean_absolute_error: 95927.5078\n",
            "Epoch 29/50\n",
            "95/95 [==============================] - 0s 3ms/step - loss: 24928937984.0000 - mean_absolute_error: 92960.0000 - val_loss: 25830240256.0000 - val_mean_absolute_error: 97302.2734\n",
            "Epoch 30/50\n",
            "95/95 [==============================] - 0s 3ms/step - loss: 24563664896.0000 - mean_absolute_error: 92581.2031 - val_loss: 25261680640.0000 - val_mean_absolute_error: 94579.2500\n",
            "Epoch 31/50\n",
            "95/95 [==============================] - 0s 3ms/step - loss: 24440455168.0000 - mean_absolute_error: 92211.2578 - val_loss: 25066946560.0000 - val_mean_absolute_error: 94239.1094\n",
            "Epoch 32/50\n",
            "95/95 [==============================] - 0s 3ms/step - loss: 24477765632.0000 - mean_absolute_error: 92100.8984 - val_loss: 25291548672.0000 - val_mean_absolute_error: 96568.1953\n",
            "Epoch 33/50\n",
            "95/95 [==============================] - 0s 3ms/step - loss: 24214663168.0000 - mean_absolute_error: 91965.2109 - val_loss: 25117288448.0000 - val_mean_absolute_error: 95362.0000\n",
            "Epoch 34/50\n",
            "95/95 [==============================] - 0s 3ms/step - loss: 24209102848.0000 - mean_absolute_error: 91990.7578 - val_loss: 24643756032.0000 - val_mean_absolute_error: 94076.3750\n",
            "Epoch 35/50\n",
            "95/95 [==============================] - 0s 3ms/step - loss: 24136476672.0000 - mean_absolute_error: 91684.2656 - val_loss: 24693542912.0000 - val_mean_absolute_error: 92337.5547\n",
            "Epoch 36/50\n",
            "95/95 [==============================] - 0s 3ms/step - loss: 24003346432.0000 - mean_absolute_error: 91786.9922 - val_loss: 24764776448.0000 - val_mean_absolute_error: 92031.6172\n",
            "Epoch 37/50\n",
            "95/95 [==============================] - 0s 3ms/step - loss: 23817691136.0000 - mean_absolute_error: 91033.3750 - val_loss: 24577341440.0000 - val_mean_absolute_error: 94852.5547\n",
            "Epoch 38/50\n",
            "95/95 [==============================] - 0s 3ms/step - loss: 23733172224.0000 - mean_absolute_error: 91150.7109 - val_loss: 24678909952.0000 - val_mean_absolute_error: 97022.3516\n",
            "Epoch 39/50\n",
            "95/95 [==============================] - 0s 2ms/step - loss: 23727446016.0000 - mean_absolute_error: 91007.6484 - val_loss: 24204574720.0000 - val_mean_absolute_error: 94164.5391\n",
            "Epoch 40/50\n",
            "95/95 [==============================] - 0s 3ms/step - loss: 23553394688.0000 - mean_absolute_error: 90747.6016 - val_loss: 23977756672.0000 - val_mean_absolute_error: 94396.2891\n",
            "Epoch 41/50\n",
            "95/95 [==============================] - 0s 3ms/step - loss: 23423291392.0000 - mean_absolute_error: 90435.9844 - val_loss: 23704895488.0000 - val_mean_absolute_error: 91903.9375\n",
            "Epoch 42/50\n",
            "95/95 [==============================] - 0s 2ms/step - loss: 23456278528.0000 - mean_absolute_error: 90524.6797 - val_loss: 23867578368.0000 - val_mean_absolute_error: 91656.1328\n",
            "Epoch 43/50\n",
            "95/95 [==============================] - 0s 3ms/step - loss: 23357161472.0000 - mean_absolute_error: 90373.5078 - val_loss: 23591366656.0000 - val_mean_absolute_error: 93635.1172\n",
            "Epoch 44/50\n",
            "95/95 [==============================] - 0s 3ms/step - loss: 23380039680.0000 - mean_absolute_error: 90535.0234 - val_loss: 23620157440.0000 - val_mean_absolute_error: 92399.1016\n",
            "Epoch 45/50\n",
            "95/95 [==============================] - 0s 3ms/step - loss: 23184658432.0000 - mean_absolute_error: 90340.5312 - val_loss: 23440506880.0000 - val_mean_absolute_error: 91248.0391\n",
            "Epoch 46/50\n",
            "95/95 [==============================] - 0s 3ms/step - loss: 23101333504.0000 - mean_absolute_error: 89785.5781 - val_loss: 23181078528.0000 - val_mean_absolute_error: 91519.0391\n",
            "Epoch 47/50\n",
            "95/95 [==============================] - 0s 3ms/step - loss: 23038924800.0000 - mean_absolute_error: 89804.0078 - val_loss: 23252686848.0000 - val_mean_absolute_error: 90775.3203\n",
            "Epoch 48/50\n",
            "95/95 [==============================] - 0s 3ms/step - loss: 23109812224.0000 - mean_absolute_error: 90016.1953 - val_loss: 23269208064.0000 - val_mean_absolute_error: 92607.7500\n",
            "Epoch 49/50\n",
            "95/95 [==============================] - 0s 3ms/step - loss: 23075790848.0000 - mean_absolute_error: 89903.3594 - val_loss: 22994300928.0000 - val_mean_absolute_error: 91696.5469\n",
            "Epoch 50/50\n",
            "95/95 [==============================] - 0s 3ms/step - loss: 23089647616.0000 - mean_absolute_error: 90099.8594 - val_loss: 23766571008.0000 - val_mean_absolute_error: 96645.5078\n"
          ]
        }
      ]
    },
    {
      "cell_type": "markdown",
      "source": [
        "# **SECTION IV : MODEL EVALUATION**"
      ],
      "metadata": {
        "id": "53CQ_JI6Eb3y"
      }
    },
    {
      "cell_type": "markdown",
      "source": [
        " 1. Create function for plotting and print out evaluation reports\n",
        "\n",
        " 2. Use the model to predict the outcome \n",
        "\n",
        "3. Plot graph and Print out the results "
      ],
      "metadata": {
        "id": "Wk96_B9rFBCR"
      }
    },
    {
      "cell_type": "code",
      "source": [
        "def plotLoss(result):\n",
        "  loss = result.history['loss']\n",
        "  valLoss = result.history['val_loss']\n",
        "  epochs = range(1, len(loss) +1)\n",
        "  plt.plot(epochs, loss , 'y', label ='Training loss')\n",
        "  plt.plot(epochs, valLoss , 'r', label ='Validation loss')\n",
        "  plt.title(\"Training and validation loss\")\n",
        "  plt.xlabel('Epochs')\n",
        "  plt.ylabel('Loss')\n",
        "  plt.legend()\n",
        "  plt.show()"
      ],
      "metadata": {
        "id": "VkstrIjsRV8G"
      },
      "execution_count": 57,
      "outputs": []
    },
    {
      "cell_type": "code",
      "source": [
        "def modelEvaluationReport(yTest, yPred):\n",
        "  print(\" The results with hyperparameters tunning\")\n",
        "  print('The Mean Absolute Error   : {:.3f}'.format(mean_absolute_error(yTest, yPred)) )  \n",
        "  print('The Mean Squared Error    : {:.3f}'.format(mean_squared_error(yTest, yPred))  )\n",
        "  print('The Root Mean Square Error: {:.3f}'.format(np.sqrt(mean_squared_error(yTest, yPred))) )"
      ],
      "metadata": {
        "id": "wbdJbBeugOkh"
      },
      "execution_count": 58,
      "outputs": []
    },
    {
      "cell_type": "code",
      "source": [
        "def plotAccuracy(result):\n",
        "  accuracy = result.history['mean_absolute_error']\n",
        "  valAccuracy = result.history['val_mean_absolute_error']\n",
        "  epochs = range(1, len(accuracy) +1)\n",
        "  plt.plot(epochs, accuracy , 'y', label ='Training MAE (Mean Absolute Error)')\n",
        "  plt.plot(epochs, valAccuracy , 'r', label ='Validation MAE (Mean Absolute Error)')\n",
        "  plt.title(\"Training and validation MAE (Mean Absolute Error)\")\n",
        "  plt.xlabel('Epochs')\n",
        "  plt.ylabel('Mean Absolute Error')\n",
        "  plt.legend()\n",
        "  plt.show()"
      ],
      "metadata": {
        "id": "EcWbjLUqVd0R"
      },
      "execution_count": 59,
      "outputs": []
    },
    {
      "cell_type": "code",
      "source": [
        "def plotResult(yTest, yPred):\n",
        "    plt.figure(figsize=(10,6))\n",
        "    plt.scatter(yTest,yPred,color=\"blue\",marker=\"o\")\n",
        "    plt.plot(yPred,yPred,marker='o',color='green',markerfacecolor='red',markersize=7,linestyle='dashed')\n",
        "    plt.title(\" Model prediction \")\n",
        "    plt.show()"
      ],
      "metadata": {
        "id": "kSF7srS1x5dY"
      },
      "execution_count": 60,
      "outputs": []
    },
    {
      "cell_type": "code",
      "source": [
        "results_list = [result1,result2,result3,result4]"
      ],
      "metadata": {
        "id": "pd_txwem21Cu"
      },
      "execution_count": 61,
      "outputs": []
    },
    {
      "cell_type": "code",
      "source": [
        "# plot loss graph for training and validation dataset\n",
        "# plot MAE graph for training and validation dataset\n",
        "for i in results_list:\n",
        "  plotLoss(i)\n",
        "  plotAccuracy(i)"
      ],
      "metadata": {
        "id": "sFzoz72fVE1B",
        "colab": {
          "base_uri": "https://localhost:8080/",
          "height": 1000
        },
        "outputId": "f4347d7c-cd06-4e74-b126-bb0fc78d99b9"
      },
      "execution_count": 62,
      "outputs": [
        {
          "output_type": "display_data",
          "data": {
            "text/plain": [
              "<Figure size 432x288 with 1 Axes>"
            ],
            "image/png": "[encoded data removed]"
          },
          "metadata": {
            "needs_background": "light"
          }
        },
        {
          "output_type": "display_data",
          "data": {
            "text/plain": [
              "<Figure size 432x288 with 1 Axes>"
            ],
            "image/png": "[encoded data removed]"
          },
          "metadata": {
            "needs_background": "light"
          }
        },
        {
          "output_type": "display_data",
          "data": {
            "text/plain": [
              "<Figure size 432x288 with 1 Axes>"
            ],
            "image/png": "[encoded data removed]"
          },
          "metadata": {
            "needs_background": "light"
          }
        },
        {
          "output_type": "display_data",
          "data": {
            "text/plain": [
              "<Figure size 432x288 with 1 Axes>"
            ],
            "image/png": "[encoded data removed]"
          },
          "metadata": {
            "needs_background": "light"
          }
        },
        {
          "output_type": "display_data",
          "data": {
            "text/plain": [
              "<Figure size 432x288 with 1 Axes>"
            ],
            "image/png": "[encoded data removed]"
          },
          "metadata": {
            "needs_background": "light"
          }
        },
        {
          "output_type": "display_data",
          "data": {
            "text/plain": [
              "<Figure size 432x288 with 1 Axes>"
            ],
            "image/png": "[encoded data removed]"
          },
          "metadata": {
            "needs_background": "light"
          }
        },
        {
          "output_type": "display_data",
          "data": {
            "text/plain": [
              "<Figure size 432x288 with 1 Axes>"
            ],
            "image/png": "[encoded data removed]"
          },
          "metadata": {
            "needs_background": "light"
          }
        },
        {
          "output_type": "display_data",
          "data": {
            "text/plain": [
              "<Figure size 432x288 with 1 Axes>"
            ],
            "image/png": "[encoded data removed]"
          },
          "metadata": {
            "needs_background": "light"
          }
        }
      ]
    },
    {
      "cell_type": "markdown",
      "source": [
        "**Using candidate models to predict output and compare their performance**"
      ],
      "metadata": {
        "id": "vxSevudmPO6w"
      }
    },
    {
      "cell_type": "code",
      "source": [
        "yPred1 = model1.predict(xTestScaled)\n",
        "# check the prediction and actual value\n",
        "yTest.reset_index(drop=True, inplace=True)\n",
        "compareToActual1 = pd.concat([yTest, pd.DataFrame(yPred1)], axis = 1 )\n",
        "print(\"Actual price compare with Predicted Price with Model 1\")\n",
        "print(compareToActual1)\n"
      ],
      "metadata": {
        "id": "6VQ7UuNnLp5v",
        "colab": {
          "base_uri": "https://localhost:8080/"
        },
        "outputId": "79fd781f-b8c3-4de9-f133-2a46f66908b4"
      },
      "execution_count": 63,
      "outputs": [
        {
          "output_type": "stream",
          "name": "stdout",
          "text": [
            "Actual price compare with Predicted Price with Model 1\n",
            "         price              0\n",
            "0     692500.0  611422.562500\n",
            "1     343000.0  381894.250000\n",
            "2     580000.0  468523.312500\n",
            "3     249000.0  257928.453125\n",
            "4     560000.0  547956.937500\n",
            "...        ...            ...\n",
            "6479  426950.0  359447.375000\n",
            "6480  475000.0  467219.750000\n",
            "6481  579950.0  484546.875000\n",
            "6482  205000.0  169415.921875\n",
            "6483  300000.0  414997.937500\n",
            "\n",
            "[6484 rows x 2 columns]\n"
          ]
        }
      ]
    },
    {
      "cell_type": "code",
      "source": [
        "yPred2 = model2.predict(xTestScaled)\n",
        "# check the prediction and actual value\n",
        "yTest.reset_index(drop=True, inplace=True)\n",
        "compareToActual2 = pd.concat([yTest, pd.DataFrame(yPred2)], axis = 1 )\n",
        "print(\"Actual price compare with Predicted Price with Model 2\")\n",
        "print(compareToActual2)\n"
      ],
      "metadata": {
        "colab": {
          "base_uri": "https://localhost:8080/"
        },
        "id": "W5yHPngDQiZW",
        "outputId": "47328ef8-8905-4346-9036-139b0e5371b1"
      },
      "execution_count": 64,
      "outputs": [
        {
          "output_type": "stream",
          "name": "stdout",
          "text": [
            "Actual price compare with Predicted Price with Model 2\n",
            "         price              0\n",
            "0     692500.0  621740.937500\n",
            "1     343000.0  362544.218750\n",
            "2     580000.0  461785.750000\n",
            "3     249000.0  251401.640625\n",
            "4     560000.0  565741.687500\n",
            "...        ...            ...\n",
            "6479  426950.0  367827.031250\n",
            "6480  475000.0  483662.968750\n",
            "6481  579950.0  481163.250000\n",
            "6482  205000.0  184918.390625\n",
            "6483  300000.0  422288.875000\n",
            "\n",
            "[6484 rows x 2 columns]\n"
          ]
        }
      ]
    },
    {
      "cell_type": "code",
      "source": [
        "yPred3 = model3.predict(xTestScaled)\n",
        "# check the prediction and actual value\n",
        "yTest.reset_index(drop=True, inplace=True)\n",
        "compareToActual3 = pd.concat([yTest, pd.DataFrame(yPred3)], axis = 1 )\n",
        "print(\"Actual price compare with Predicted Price with Model 3\")\n",
        "print(compareToActual3)\n"
      ],
      "metadata": {
        "colab": {
          "base_uri": "https://localhost:8080/"
        },
        "id": "OlnDhKxOQjx4",
        "outputId": "08ea177a-4827-45be-eb90-f23e531c8ae5"
      },
      "execution_count": 65,
      "outputs": [
        {
          "output_type": "stream",
          "name": "stdout",
          "text": [
            "Actual price compare with Predicted Price with Model 3\n",
            "         price              0\n",
            "0     692500.0  573650.937500\n",
            "1     343000.0  389614.656250\n",
            "2     580000.0  472830.218750\n",
            "3     249000.0  225850.125000\n",
            "4     560000.0  552807.687500\n",
            "...        ...            ...\n",
            "6479  426950.0  375177.062500\n",
            "6480  475000.0  483457.187500\n",
            "6481  579950.0  458136.187500\n",
            "6482  205000.0  225850.109375\n",
            "6483  300000.0  420925.312500\n",
            "\n",
            "[6484 rows x 2 columns]\n"
          ]
        }
      ]
    },
    {
      "cell_type": "code",
      "source": [
        "yPred4 = model4.predict(xTestScaled)\n",
        "# check the prediction and actual value\n",
        "yTest.reset_index(drop=True, inplace=True)\n",
        "compareToActual4 = pd.concat([yTest, pd.DataFrame(yPred4)], axis = 1 )\n",
        "print(\"Actual price compare with Predicted Price with Model 4\")\n",
        "print(compareToActual4)"
      ],
      "metadata": {
        "colab": {
          "base_uri": "https://localhost:8080/"
        },
        "id": "6zR_3TaCVCBB",
        "outputId": "d4214300-47b3-49db-9030-bb897c5e05fd"
      },
      "execution_count": 66,
      "outputs": [
        {
          "output_type": "stream",
          "name": "stdout",
          "text": [
            "Actual price compare with Predicted Price with Model 4\n",
            "         price             0\n",
            "0     692500.0  644633.50000\n",
            "1     343000.0  409939.68750\n",
            "2     580000.0  501246.53125\n",
            "3     249000.0  290741.71875\n",
            "4     560000.0  594627.75000\n",
            "...        ...           ...\n",
            "6479  426950.0  403390.84375\n",
            "6480  475000.0  527366.81250\n",
            "6481  579950.0  504016.28125\n",
            "6482  205000.0  195386.53125\n",
            "6483  300000.0  459155.87500\n",
            "\n",
            "[6484 rows x 2 columns]\n"
          ]
        }
      ]
    },
    {
      "cell_type": "code",
      "source": [
        "# Evaluation report for Tunned Model\n",
        "print(\" Model 1 Performance Evaluation\")\n",
        "modelEvaluationReport(yTest, yPred1 )\n",
        "print(\" Model 2 Performance Evaluation\")\n",
        "modelEvaluationReport(yTest, yPred2 )\n",
        "print(\" Model 3 Performance Evaluation\")\n",
        "modelEvaluationReport(yTest, yPred3 )\n",
        "print(\" Model 4 Performance Evaluation\")\n",
        "modelEvaluationReport(yTest, yPred4 )"
      ],
      "metadata": {
        "id": "sJe9K26bGLJF",
        "colab": {
          "base_uri": "https://localhost:8080/"
        },
        "outputId": "d223b763-c4de-4665-dc51-dda19e57596a"
      },
      "execution_count": 67,
      "outputs": [
        {
          "output_type": "stream",
          "name": "stdout",
          "text": [
            " Model 1 Performance Evaluation\n",
            " The results with hyperparameters tunning\n",
            "The Mean Absolute Error   : 90814.691\n",
            "The Mean Squared Error    : 22164037647.659\n",
            "The Root Mean Square Error: 148875.914\n",
            " Model 2 Performance Evaluation\n",
            " The results with hyperparameters tunning\n",
            "The Mean Absolute Error   : 88700.780\n",
            "The Mean Squared Error    : 21890913840.871\n",
            "The Root Mean Square Error: 147955.783\n",
            " Model 3 Performance Evaluation\n",
            " The results with hyperparameters tunning\n",
            "The Mean Absolute Error   : 89648.741\n",
            "The Mean Squared Error    : 24944217854.805\n",
            "The Root Mean Square Error: 157937.386\n",
            " Model 4 Performance Evaluation\n",
            " The results with hyperparameters tunning\n",
            "The Mean Absolute Error   : 95332.367\n",
            "The Mean Squared Error    : 23138467225.926\n",
            "The Root Mean Square Error: 152113.337\n"
          ]
        }
      ]
    },
    {
      "cell_type": "code",
      "source": [
        "#plot the results of 4 different models\n",
        "print(\" Model 1\")\n",
        "plotResult(yTest, yPred1)\n",
        "print(\" Model 2\")\n",
        "plotResult(yTest, yPred2)\n",
        "print(\" Model 3\")\n",
        "plotResult(yTest, yPred3)\n",
        "print(\" Model 4\")\n",
        "plotResult(yTest, yPred4)"
      ],
      "metadata": {
        "id": "v2QBSwEQHKzW",
        "colab": {
          "base_uri": "https://localhost:8080/",
          "height": 1000
        },
        "outputId": "987b21b6-ad3f-407d-b79b-1c5fdb342542"
      },
      "execution_count": 68,
      "outputs": [
        {
          "output_type": "stream",
          "name": "stdout",
          "text": [
            " Model 1\n"
          ]
        },
        {
          "output_type": "display_data",
          "data": {
            "text/plain": [
              "<Figure size 720x432 with 1 Axes>"
            ],
            "image/png": "[encoded data removed]"
          },
          "metadata": {
            "needs_background": "light"
          }
        },
        {
          "output_type": "stream",
          "name": "stdout",
          "text": [
            " Model 2\n"
          ]
        },
        {
          "output_type": "display_data",
          "data": {
            "text/plain": [
              "<Figure size 720x432 with 1 Axes>"
            ],
            "image/png": "[encoded data removed]"
          },
          "metadata": {
            "needs_background": "light"
          }
        },
        {
          "output_type": "stream",
          "name": "stdout",
          "text": [
            " Model 3\n"
          ]
        },
        {
          "output_type": "display_data",
          "data": {
            "text/plain": [
              "<Figure size 720x432 with 1 Axes>"
            ],
            "image/png": "[encoded data removed]"
          },
          "metadata": {
            "needs_background": "light"
          }
        },
        {
          "output_type": "stream",
          "name": "stdout",
          "text": [
            " Model 4\n"
          ]
        },
        {
          "output_type": "display_data",
          "data": {
            "text/plain": [
              "<Figure size 720x432 with 1 Axes>"
            ],
            "image/png": "[encoded data removed]"
          },
          "metadata": {
            "needs_background": "light"
          }
        }
      ]
    },
    {
      "cell_type": "markdown",
      "source": [
        "# **Reference**\n",
        "\n",
        "**Auther :** \n",
        "\n",
        "Chayanin Chomchuen\n",
        "\n",
        "**Co-auther :** \n",
        "\n",
        "Sabarinath Muralidharan Sujatha"
      ],
      "metadata": {
        "id": "LTYCY130lXfT"
      }
    }
  ]
}